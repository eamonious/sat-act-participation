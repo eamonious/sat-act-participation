{
 "cells": [
  {
   "cell_type": "markdown",
   "metadata": {},
   "source": [
    "# Trends in SAT and ACT Participation, 2017-18"
   ]
  },
  {
   "cell_type": "markdown",
   "metadata": {},
   "source": [
    "The ACT has been outpacing the SAT in participation in recent years, steadily gaining ground across the country.  The College Board implemented some major design changes to the SAT in 2016, in an attempt to revitalize their test.  Here we take a look at SAT and ACT participation and scoring data by state in 2017 and 2018, to see if we can glean any strategies the College Board might employ to increase SAT participation moving forward.  "
   ]
  },
  {
   "cell_type": "markdown",
   "metadata": {},
   "source": [
    "## Contents:\n",
    "- [Data Import & Cleaning](#Data-Import-and-Cleaning)\n",
    "- [Data Dictionary](#2017-18-SAT/ACT-Data-Dictionary)\n",
    "- [Exploratory Data Analysis](#Exploring-The-Data)\n",
    "- [First Impressions: The ACT is Winning](#First-Impressions:-The-ACT-is-Winning)\n",
    "- [Visualizing the Effect of Selection Bias](#Visualizing-the-Effect-of-Selection-Bias)\n",
    "- [Mapping Test Preference in Tableau](#Mapping-2018-SAT/ACT-Preference-by-State-in-Tableau)\n",
    "- [Identifying SAT Target States](#Identifying-Target-States-for-SAT-Growth)\n",
    "- [Notes on Individual States](#Notes-on-Individual-States)\n",
    "- [Conclusions and Recommendations](#Conclusions-and-Recommendations)"
   ]
  },
  {
   "cell_type": "markdown",
   "metadata": {},
   "source": [
    "## Packages"
   ]
  },
  {
   "cell_type": "code",
   "execution_count": 2,
   "metadata": {},
   "outputs": [],
   "source": [
    "# Import NumPy and Pandas.\n",
    "import numpy as np\n",
    "import pandas as pd\n",
    "\n",
    "# Import matplotlib.pyplot and Seaborn\n",
    "import matplotlib.pyplot as plt\n",
    "import seaborn as sns\n",
    "\n",
    "%matplotlib inline"
   ]
  },
  {
   "cell_type": "markdown",
   "metadata": {},
   "source": [
    "## Data Import and Cleaning"
   ]
  },
  {
   "cell_type": "markdown",
   "metadata": {},
   "source": [
    "Data Sources:\n",
    "- [2017 SAT Scores and Participation by State](https://blog.collegevine.com/here-are-the-average-sat-scores-by-state/)\n",
    "- [2017 ACT Scores and Participation by State](https://blog.prepscholar.com/act-scores-by-state-averages-highs-and-lows)\n",
    "- [2018 SAT Suite of Assessments, Annual Report](https://reports.collegeboard.org/pdf/2018-total-group-sat-suite-assessments-annual-report.pdf)\n",
    "- [Average ACT Scores by State, 2018](https://reports.collegeboard.org/pdf/2018-total-group-sat-suite-assessments-annual-report.pdf)"
   ]
  },
  {
   "cell_type": "code",
   "execution_count": 3,
   "metadata": {},
   "outputs": [],
   "source": [
    "#Read in 2017 SAT and ACT data:\n",
    "sat_2017 = pd.read_csv('data/sat_2017.csv')\n",
    "act_2017 = pd.read_csv('data/act_2017.csv')"
   ]
  },
  {
   "cell_type": "code",
   "execution_count": 4,
   "metadata": {},
   "outputs": [
    {
     "data": {
      "text/html": [
       "<div>\n",
       "<style scoped>\n",
       "    .dataframe tbody tr th:only-of-type {\n",
       "        vertical-align: middle;\n",
       "    }\n",
       "\n",
       "    .dataframe tbody tr th {\n",
       "        vertical-align: top;\n",
       "    }\n",
       "\n",
       "    .dataframe thead th {\n",
       "        text-align: right;\n",
       "    }\n",
       "</style>\n",
       "<table border=\"1\" class=\"dataframe\">\n",
       "  <thead>\n",
       "    <tr style=\"text-align: right;\">\n",
       "      <th></th>\n",
       "      <th>State</th>\n",
       "      <th>Participation</th>\n",
       "      <th>Evidence-Based Reading and Writing</th>\n",
       "      <th>Math</th>\n",
       "      <th>Total</th>\n",
       "    </tr>\n",
       "  </thead>\n",
       "  <tbody>\n",
       "    <tr>\n",
       "      <th>0</th>\n",
       "      <td>Alabama</td>\n",
       "      <td>5%</td>\n",
       "      <td>593</td>\n",
       "      <td>572</td>\n",
       "      <td>1165</td>\n",
       "    </tr>\n",
       "    <tr>\n",
       "      <th>1</th>\n",
       "      <td>Alaska</td>\n",
       "      <td>38%</td>\n",
       "      <td>547</td>\n",
       "      <td>533</td>\n",
       "      <td>1080</td>\n",
       "    </tr>\n",
       "    <tr>\n",
       "      <th>2</th>\n",
       "      <td>Arizona</td>\n",
       "      <td>30%</td>\n",
       "      <td>563</td>\n",
       "      <td>553</td>\n",
       "      <td>1116</td>\n",
       "    </tr>\n",
       "    <tr>\n",
       "      <th>3</th>\n",
       "      <td>Arkansas</td>\n",
       "      <td>3%</td>\n",
       "      <td>614</td>\n",
       "      <td>594</td>\n",
       "      <td>1208</td>\n",
       "    </tr>\n",
       "    <tr>\n",
       "      <th>4</th>\n",
       "      <td>California</td>\n",
       "      <td>53%</td>\n",
       "      <td>531</td>\n",
       "      <td>524</td>\n",
       "      <td>1055</td>\n",
       "    </tr>\n",
       "  </tbody>\n",
       "</table>\n",
       "</div>"
      ],
      "text/plain": [
       "        State Participation  Evidence-Based Reading and Writing  Math  Total\n",
       "0     Alabama            5%                                 593   572   1165\n",
       "1      Alaska           38%                                 547   533   1080\n",
       "2     Arizona           30%                                 563   553   1116\n",
       "3    Arkansas            3%                                 614   594   1208\n",
       "4  California           53%                                 531   524   1055"
      ]
     },
     "execution_count": 4,
     "metadata": {},
     "output_type": "execute_result"
    }
   ],
   "source": [
    "sat_2017.head()"
   ]
  },
  {
   "cell_type": "code",
   "execution_count": 5,
   "metadata": {
    "scrolled": true
   },
   "outputs": [
    {
     "data": {
      "text/html": [
       "<div>\n",
       "<style scoped>\n",
       "    .dataframe tbody tr th:only-of-type {\n",
       "        vertical-align: middle;\n",
       "    }\n",
       "\n",
       "    .dataframe tbody tr th {\n",
       "        vertical-align: top;\n",
       "    }\n",
       "\n",
       "    .dataframe thead th {\n",
       "        text-align: right;\n",
       "    }\n",
       "</style>\n",
       "<table border=\"1\" class=\"dataframe\">\n",
       "  <thead>\n",
       "    <tr style=\"text-align: right;\">\n",
       "      <th></th>\n",
       "      <th>Evidence-Based Reading and Writing</th>\n",
       "      <th>Math</th>\n",
       "      <th>Total</th>\n",
       "    </tr>\n",
       "  </thead>\n",
       "  <tbody>\n",
       "    <tr>\n",
       "      <th>count</th>\n",
       "      <td>51.000000</td>\n",
       "      <td>51.000000</td>\n",
       "      <td>51.000000</td>\n",
       "    </tr>\n",
       "    <tr>\n",
       "      <th>mean</th>\n",
       "      <td>569.117647</td>\n",
       "      <td>556.882353</td>\n",
       "      <td>1126.098039</td>\n",
       "    </tr>\n",
       "    <tr>\n",
       "      <th>std</th>\n",
       "      <td>45.666901</td>\n",
       "      <td>47.121395</td>\n",
       "      <td>92.494812</td>\n",
       "    </tr>\n",
       "    <tr>\n",
       "      <th>min</th>\n",
       "      <td>482.000000</td>\n",
       "      <td>468.000000</td>\n",
       "      <td>950.000000</td>\n",
       "    </tr>\n",
       "    <tr>\n",
       "      <th>25%</th>\n",
       "      <td>533.500000</td>\n",
       "      <td>523.500000</td>\n",
       "      <td>1055.500000</td>\n",
       "    </tr>\n",
       "    <tr>\n",
       "      <th>50%</th>\n",
       "      <td>559.000000</td>\n",
       "      <td>548.000000</td>\n",
       "      <td>1107.000000</td>\n",
       "    </tr>\n",
       "    <tr>\n",
       "      <th>75%</th>\n",
       "      <td>613.000000</td>\n",
       "      <td>599.000000</td>\n",
       "      <td>1212.000000</td>\n",
       "    </tr>\n",
       "    <tr>\n",
       "      <th>max</th>\n",
       "      <td>644.000000</td>\n",
       "      <td>651.000000</td>\n",
       "      <td>1295.000000</td>\n",
       "    </tr>\n",
       "  </tbody>\n",
       "</table>\n",
       "</div>"
      ],
      "text/plain": [
       "       Evidence-Based Reading and Writing        Math        Total\n",
       "count                           51.000000   51.000000    51.000000\n",
       "mean                           569.117647  556.882353  1126.098039\n",
       "std                             45.666901   47.121395    92.494812\n",
       "min                            482.000000  468.000000   950.000000\n",
       "25%                            533.500000  523.500000  1055.500000\n",
       "50%                            559.000000  548.000000  1107.000000\n",
       "75%                            613.000000  599.000000  1212.000000\n",
       "max                            644.000000  651.000000  1295.000000"
      ]
     },
     "execution_count": 5,
     "metadata": {},
     "output_type": "execute_result"
    }
   ],
   "source": [
    "sat_2017.describe()"
   ]
  },
  {
   "cell_type": "code",
   "execution_count": 6,
   "metadata": {},
   "outputs": [
    {
     "data": {
      "text/html": [
       "<div>\n",
       "<style scoped>\n",
       "    .dataframe tbody tr th:only-of-type {\n",
       "        vertical-align: middle;\n",
       "    }\n",
       "\n",
       "    .dataframe tbody tr th {\n",
       "        vertical-align: top;\n",
       "    }\n",
       "\n",
       "    .dataframe thead th {\n",
       "        text-align: right;\n",
       "    }\n",
       "</style>\n",
       "<table border=\"1\" class=\"dataframe\">\n",
       "  <thead>\n",
       "    <tr style=\"text-align: right;\">\n",
       "      <th></th>\n",
       "      <th>State</th>\n",
       "      <th>Participation</th>\n",
       "      <th>English</th>\n",
       "      <th>Math</th>\n",
       "      <th>Reading</th>\n",
       "      <th>Science</th>\n",
       "      <th>Composite</th>\n",
       "    </tr>\n",
       "  </thead>\n",
       "  <tbody>\n",
       "    <tr>\n",
       "      <th>0</th>\n",
       "      <td>National</td>\n",
       "      <td>60%</td>\n",
       "      <td>20.3</td>\n",
       "      <td>20.7</td>\n",
       "      <td>21.4</td>\n",
       "      <td>21.0</td>\n",
       "      <td>21.0</td>\n",
       "    </tr>\n",
       "    <tr>\n",
       "      <th>1</th>\n",
       "      <td>Alabama</td>\n",
       "      <td>100%</td>\n",
       "      <td>18.9</td>\n",
       "      <td>18.4</td>\n",
       "      <td>19.7</td>\n",
       "      <td>19.4</td>\n",
       "      <td>19.2</td>\n",
       "    </tr>\n",
       "    <tr>\n",
       "      <th>2</th>\n",
       "      <td>Alaska</td>\n",
       "      <td>65%</td>\n",
       "      <td>18.7</td>\n",
       "      <td>19.8</td>\n",
       "      <td>20.4</td>\n",
       "      <td>19.9</td>\n",
       "      <td>19.8</td>\n",
       "    </tr>\n",
       "    <tr>\n",
       "      <th>3</th>\n",
       "      <td>Arizona</td>\n",
       "      <td>62%</td>\n",
       "      <td>18.6</td>\n",
       "      <td>19.8</td>\n",
       "      <td>20.1</td>\n",
       "      <td>19.8</td>\n",
       "      <td>19.7</td>\n",
       "    </tr>\n",
       "    <tr>\n",
       "      <th>4</th>\n",
       "      <td>Arkansas</td>\n",
       "      <td>100%</td>\n",
       "      <td>18.9</td>\n",
       "      <td>19.0</td>\n",
       "      <td>19.7</td>\n",
       "      <td>19.5</td>\n",
       "      <td>19.4</td>\n",
       "    </tr>\n",
       "  </tbody>\n",
       "</table>\n",
       "</div>"
      ],
      "text/plain": [
       "      State Participation  English  Math  Reading  Science  Composite\n",
       "0  National           60%     20.3  20.7     21.4     21.0       21.0\n",
       "1   Alabama          100%     18.9  18.4     19.7     19.4       19.2\n",
       "2    Alaska           65%     18.7  19.8     20.4     19.9       19.8\n",
       "3   Arizona           62%     18.6  19.8     20.1     19.8       19.7\n",
       "4  Arkansas          100%     18.9  19.0     19.7     19.5       19.4"
      ]
     },
     "execution_count": 6,
     "metadata": {},
     "output_type": "execute_result"
    }
   ],
   "source": [
    "act_2017.head()"
   ]
  },
  {
   "cell_type": "code",
   "execution_count": 7,
   "metadata": {},
   "outputs": [
    {
     "data": {
      "text/html": [
       "<div>\n",
       "<style scoped>\n",
       "    .dataframe tbody tr th:only-of-type {\n",
       "        vertical-align: middle;\n",
       "    }\n",
       "\n",
       "    .dataframe tbody tr th {\n",
       "        vertical-align: top;\n",
       "    }\n",
       "\n",
       "    .dataframe thead th {\n",
       "        text-align: right;\n",
       "    }\n",
       "</style>\n",
       "<table border=\"1\" class=\"dataframe\">\n",
       "  <thead>\n",
       "    <tr style=\"text-align: right;\">\n",
       "      <th></th>\n",
       "      <th>English</th>\n",
       "      <th>Math</th>\n",
       "      <th>Reading</th>\n",
       "      <th>Science</th>\n",
       "      <th>Composite</th>\n",
       "    </tr>\n",
       "  </thead>\n",
       "  <tbody>\n",
       "    <tr>\n",
       "      <th>count</th>\n",
       "      <td>52.000000</td>\n",
       "      <td>52.000000</td>\n",
       "      <td>52.000000</td>\n",
       "      <td>52.000000</td>\n",
       "      <td>52.000000</td>\n",
       "    </tr>\n",
       "    <tr>\n",
       "      <th>mean</th>\n",
       "      <td>20.919231</td>\n",
       "      <td>21.173077</td>\n",
       "      <td>22.001923</td>\n",
       "      <td>21.442308</td>\n",
       "      <td>21.509615</td>\n",
       "    </tr>\n",
       "    <tr>\n",
       "      <th>std</th>\n",
       "      <td>2.332132</td>\n",
       "      <td>1.963602</td>\n",
       "      <td>2.048672</td>\n",
       "      <td>1.723351</td>\n",
       "      <td>2.002083</td>\n",
       "    </tr>\n",
       "    <tr>\n",
       "      <th>min</th>\n",
       "      <td>16.300000</td>\n",
       "      <td>18.000000</td>\n",
       "      <td>18.100000</td>\n",
       "      <td>18.200000</td>\n",
       "      <td>17.800000</td>\n",
       "    </tr>\n",
       "    <tr>\n",
       "      <th>25%</th>\n",
       "      <td>19.000000</td>\n",
       "      <td>19.400000</td>\n",
       "      <td>20.475000</td>\n",
       "      <td>19.975000</td>\n",
       "      <td>19.800000</td>\n",
       "    </tr>\n",
       "    <tr>\n",
       "      <th>50%</th>\n",
       "      <td>20.550000</td>\n",
       "      <td>20.900000</td>\n",
       "      <td>21.700000</td>\n",
       "      <td>21.300000</td>\n",
       "      <td>21.400000</td>\n",
       "    </tr>\n",
       "    <tr>\n",
       "      <th>75%</th>\n",
       "      <td>23.300000</td>\n",
       "      <td>23.100000</td>\n",
       "      <td>24.125000</td>\n",
       "      <td>23.200000</td>\n",
       "      <td>23.600000</td>\n",
       "    </tr>\n",
       "    <tr>\n",
       "      <th>max</th>\n",
       "      <td>25.500000</td>\n",
       "      <td>25.300000</td>\n",
       "      <td>26.000000</td>\n",
       "      <td>24.900000</td>\n",
       "      <td>25.500000</td>\n",
       "    </tr>\n",
       "  </tbody>\n",
       "</table>\n",
       "</div>"
      ],
      "text/plain": [
       "         English       Math    Reading    Science  Composite\n",
       "count  52.000000  52.000000  52.000000  52.000000  52.000000\n",
       "mean   20.919231  21.173077  22.001923  21.442308  21.509615\n",
       "std     2.332132   1.963602   2.048672   1.723351   2.002083\n",
       "min    16.300000  18.000000  18.100000  18.200000  17.800000\n",
       "25%    19.000000  19.400000  20.475000  19.975000  19.800000\n",
       "50%    20.550000  20.900000  21.700000  21.300000  21.400000\n",
       "75%    23.300000  23.100000  24.125000  23.200000  23.600000\n",
       "max    25.500000  25.300000  26.000000  24.900000  25.500000"
      ]
     },
     "execution_count": 7,
     "metadata": {},
     "output_type": "execute_result"
    }
   ],
   "source": [
    "act_2017.describe()"
   ]
  },
  {
   "cell_type": "markdown",
   "metadata": {},
   "source": [
    "For the SAT, we have for each state, the 2017 participation rate (given as a percentage), mean reading/writing score, mean math score, and mean total score (An individual's SAT total score is simply the sum of the two section scores).  The mean scores have been provided rounded to the nearest whole number, therefore the average section scores will not necessarily sum exactly to produce the average total score for each state. \n",
    "\n",
    "For the ACT, we have for each state, the 2017 participation rate (given as a percentage), scores for English, Math, Reading, Science, and then the Composite Score (An individual's composite score is the average of their four sectional test scores, rounded to the nearest whole number).  The mean scores have been provided rounded to the nearest tenth of a decimal point.\n",
    "\n",
    "The .describe() commands above provide basic descriptive statistics for each column in the two dataframes, including mean, standard deviation, minimum and maximum values, as well as Q1, median, and Q3 percentile values.  \n",
    "\n",
    "The data look complete, if not perfectly clean.  Excluding a national averages row in the ACT table, there appear to be 51 rows in each table corresponding to the 50 states and the District of Columbia.  No values are missing in any of the data columns for either dataframe.\n",
    "\n",
    "SAT subsection scores range from 200 to 800. ACT scores for subsections range from 1 to 36, with average score typically close to 20 for each section. The summary statistics do not show any evidence of bad data in this context.\n",
    "\n",
    "One thing we do need to do is convert the participation percentages into numerical format."
   ]
  },
  {
   "cell_type": "code",
   "execution_count": 8,
   "metadata": {
    "scrolled": true
   },
   "outputs": [],
   "source": [
    "#This function takes a string-type percentage, removes the percentage symbol, converts the remaining number to a float, \n",
    "#and divides by 100 to return the numerical representation of the percentage.\n",
    "def participation_to_numeric(percentage_string):\n",
    "    participation = float(percentage_string[:-1])/100   \n",
    "    return participation\n",
    "\n",
    "#Converts the participation percentages into numerical format\n",
    "sat_2017['Participation'] = sat_2017['Participation'].map(lambda x: participation_to_numeric(x))\n",
    "act_2017['Participation'] = act_2017['Participation'].map(lambda x: participation_to_numeric(x))\n",
    "\n",
    "#The ACT dataframe contains a row with national averages.  This can be removed.\n",
    "act_2017.drop(0,inplace=True)\n",
    "\n",
    "#Keeps the index lined up with the SAT dataframe index.\n",
    "act_2017.reset_index(drop=True,inplace=True)  "
   ]
  },
  {
   "cell_type": "markdown",
   "metadata": {},
   "source": [
    "Checking data types (Everything looks correct) and renaming columns for clarity later on:"
   ]
  },
  {
   "cell_type": "code",
   "execution_count": 9,
   "metadata": {
    "scrolled": true
   },
   "outputs": [
    {
     "data": {
      "text/plain": [
       "State                                  object\n",
       "Participation                         float64\n",
       "Evidence-Based Reading and Writing      int64\n",
       "Math                                    int64\n",
       "Total                                   int64\n",
       "dtype: object"
      ]
     },
     "execution_count": 9,
     "metadata": {},
     "output_type": "execute_result"
    }
   ],
   "source": [
    "sat_2017.dtypes"
   ]
  },
  {
   "cell_type": "code",
   "execution_count": 10,
   "metadata": {
    "scrolled": true
   },
   "outputs": [
    {
     "data": {
      "text/plain": [
       "State             object\n",
       "Participation    float64\n",
       "English          float64\n",
       "Math             float64\n",
       "Reading          float64\n",
       "Science          float64\n",
       "Composite        float64\n",
       "dtype: object"
      ]
     },
     "execution_count": 10,
     "metadata": {},
     "output_type": "execute_result"
    }
   ],
   "source": [
    "act_2017.dtypes"
   ]
  },
  {
   "cell_type": "code",
   "execution_count": 11,
   "metadata": {},
   "outputs": [],
   "source": [
    "#Rename SAT columns\n",
    "sat_2017.rename(columns={\n",
    "    'State':'state',\n",
    "    'Participation':'sat_participation_17',\n",
    "    'Evidence-Based Reading and Writing':'sat_reading_writing_17',\n",
    "    'Math':'sat_math_17',\n",
    "    'Total':'sat_total_17'\n",
    "},inplace=True)\n",
    "\n",
    "#Rename ACT columns\n",
    "act_2017.rename(columns={\n",
    "    'State':'state',\n",
    "    'Participation':'act_participation_17',\n",
    "    'English':'act_english_17',\n",
    "    'Math':'act_math_17',\n",
    "    'Reading':'act_reading_17',\n",
    "    'Science':'act_science_17',\n",
    "    'Composite':'act_composite_17'\n",
    "},inplace=True)"
   ]
  },
  {
   "cell_type": "code",
   "execution_count": 12,
   "metadata": {},
   "outputs": [],
   "source": [
    "#Merge the SAT and ACT dataframes into a single 2017 table:\n",
    "sat_act_2017 = sat_2017.merge(act_2017,how=\"outer\",on=['state'])"
   ]
  },
  {
   "cell_type": "code",
   "execution_count": 13,
   "metadata": {},
   "outputs": [
    {
     "data": {
      "text/html": [
       "<div>\n",
       "<style scoped>\n",
       "    .dataframe tbody tr th:only-of-type {\n",
       "        vertical-align: middle;\n",
       "    }\n",
       "\n",
       "    .dataframe tbody tr th {\n",
       "        vertical-align: top;\n",
       "    }\n",
       "\n",
       "    .dataframe thead th {\n",
       "        text-align: right;\n",
       "    }\n",
       "</style>\n",
       "<table border=\"1\" class=\"dataframe\">\n",
       "  <thead>\n",
       "    <tr style=\"text-align: right;\">\n",
       "      <th></th>\n",
       "      <th>state</th>\n",
       "      <th>sat_participation_17</th>\n",
       "      <th>sat_reading_writing_17</th>\n",
       "      <th>sat_math_17</th>\n",
       "      <th>sat_total_17</th>\n",
       "      <th>act_participation_17</th>\n",
       "      <th>act_english_17</th>\n",
       "      <th>act_math_17</th>\n",
       "      <th>act_reading_17</th>\n",
       "      <th>act_science_17</th>\n",
       "      <th>act_composite_17</th>\n",
       "    </tr>\n",
       "  </thead>\n",
       "  <tbody>\n",
       "    <tr>\n",
       "      <th>0</th>\n",
       "      <td>Alabama</td>\n",
       "      <td>0.05</td>\n",
       "      <td>593</td>\n",
       "      <td>572</td>\n",
       "      <td>1165</td>\n",
       "      <td>1.00</td>\n",
       "      <td>18.9</td>\n",
       "      <td>18.4</td>\n",
       "      <td>19.7</td>\n",
       "      <td>19.4</td>\n",
       "      <td>19.2</td>\n",
       "    </tr>\n",
       "    <tr>\n",
       "      <th>1</th>\n",
       "      <td>Alaska</td>\n",
       "      <td>0.38</td>\n",
       "      <td>547</td>\n",
       "      <td>533</td>\n",
       "      <td>1080</td>\n",
       "      <td>0.65</td>\n",
       "      <td>18.7</td>\n",
       "      <td>19.8</td>\n",
       "      <td>20.4</td>\n",
       "      <td>19.9</td>\n",
       "      <td>19.8</td>\n",
       "    </tr>\n",
       "    <tr>\n",
       "      <th>2</th>\n",
       "      <td>Arizona</td>\n",
       "      <td>0.30</td>\n",
       "      <td>563</td>\n",
       "      <td>553</td>\n",
       "      <td>1116</td>\n",
       "      <td>0.62</td>\n",
       "      <td>18.6</td>\n",
       "      <td>19.8</td>\n",
       "      <td>20.1</td>\n",
       "      <td>19.8</td>\n",
       "      <td>19.7</td>\n",
       "    </tr>\n",
       "    <tr>\n",
       "      <th>3</th>\n",
       "      <td>Arkansas</td>\n",
       "      <td>0.03</td>\n",
       "      <td>614</td>\n",
       "      <td>594</td>\n",
       "      <td>1208</td>\n",
       "      <td>1.00</td>\n",
       "      <td>18.9</td>\n",
       "      <td>19.0</td>\n",
       "      <td>19.7</td>\n",
       "      <td>19.5</td>\n",
       "      <td>19.4</td>\n",
       "    </tr>\n",
       "    <tr>\n",
       "      <th>4</th>\n",
       "      <td>California</td>\n",
       "      <td>0.53</td>\n",
       "      <td>531</td>\n",
       "      <td>524</td>\n",
       "      <td>1055</td>\n",
       "      <td>0.31</td>\n",
       "      <td>22.5</td>\n",
       "      <td>22.7</td>\n",
       "      <td>23.1</td>\n",
       "      <td>22.2</td>\n",
       "      <td>22.8</td>\n",
       "    </tr>\n",
       "  </tbody>\n",
       "</table>\n",
       "</div>"
      ],
      "text/plain": [
       "        state  sat_participation_17  sat_reading_writing_17  sat_math_17  \\\n",
       "0     Alabama                  0.05                     593          572   \n",
       "1      Alaska                  0.38                     547          533   \n",
       "2     Arizona                  0.30                     563          553   \n",
       "3    Arkansas                  0.03                     614          594   \n",
       "4  California                  0.53                     531          524   \n",
       "\n",
       "   sat_total_17  act_participation_17  act_english_17  act_math_17  \\\n",
       "0          1165                  1.00            18.9         18.4   \n",
       "1          1080                  0.65            18.7         19.8   \n",
       "2          1116                  0.62            18.6         19.8   \n",
       "3          1208                  1.00            18.9         19.0   \n",
       "4          1055                  0.31            22.5         22.7   \n",
       "\n",
       "   act_reading_17  act_science_17  act_composite_17  \n",
       "0            19.7            19.4              19.2  \n",
       "1            20.4            19.9              19.8  \n",
       "2            20.1            19.8              19.7  \n",
       "3            19.7            19.5              19.4  \n",
       "4            23.1            22.2              22.8  "
      ]
     },
     "execution_count": 13,
     "metadata": {},
     "output_type": "execute_result"
    }
   ],
   "source": [
    "sat_act_2017.head()"
   ]
  },
  {
   "cell_type": "code",
   "execution_count": 15,
   "metadata": {},
   "outputs": [],
   "source": [
    "#Save the merged dataframe\n",
    "sat_act_2017.to_csv('data/sat_act_2017.csv')"
   ]
  },
  {
   "cell_type": "markdown",
   "metadata": {},
   "source": [
    "### Adding in 2018 Data"
   ]
  },
  {
   "cell_type": "code",
   "execution_count": 17,
   "metadata": {
    "scrolled": true
   },
   "outputs": [],
   "source": [
    "#In preparing the CSV file, I combined the 2018 ACT and SAT data into a single file with analogous variables to the existing 2017 dataframe.\n",
    "sat_act_2018 = pd.read_csv('data/sat_act_2018.csv')\n",
    "\n",
    "#Convert percentage data to numeric format\n",
    "sat_act_2018['sat_participation_18'] = sat_act_2018['sat_participation_18'].map(lambda x: participation_to_numeric(x))\n",
    "sat_act_2018['act_participation_18'] = sat_act_2018['act_participation_18'].map(lambda x: participation_to_numeric(x))"
   ]
  },
  {
   "cell_type": "code",
   "execution_count": 18,
   "metadata": {
    "scrolled": true
   },
   "outputs": [
    {
     "data": {
      "text/html": [
       "<div>\n",
       "<style scoped>\n",
       "    .dataframe tbody tr th:only-of-type {\n",
       "        vertical-align: middle;\n",
       "    }\n",
       "\n",
       "    .dataframe tbody tr th {\n",
       "        vertical-align: top;\n",
       "    }\n",
       "\n",
       "    .dataframe thead th {\n",
       "        text-align: right;\n",
       "    }\n",
       "</style>\n",
       "<table border=\"1\" class=\"dataframe\">\n",
       "  <thead>\n",
       "    <tr style=\"text-align: right;\">\n",
       "      <th></th>\n",
       "      <th>sat_participation_18</th>\n",
       "      <th>sat_reading_writing_18</th>\n",
       "      <th>sat_math_18</th>\n",
       "      <th>sat_total_18</th>\n",
       "      <th>act_participation_18</th>\n",
       "      <th>act_composite_18</th>\n",
       "    </tr>\n",
       "  </thead>\n",
       "  <tbody>\n",
       "    <tr>\n",
       "      <th>count</th>\n",
       "      <td>51.000000</td>\n",
       "      <td>51.000000</td>\n",
       "      <td>51.000000</td>\n",
       "      <td>51.000000</td>\n",
       "      <td>51.000000</td>\n",
       "      <td>51.000000</td>\n",
       "    </tr>\n",
       "    <tr>\n",
       "      <th>mean</th>\n",
       "      <td>0.452353</td>\n",
       "      <td>567.705882</td>\n",
       "      <td>558.450980</td>\n",
       "      <td>1126.156863</td>\n",
       "      <td>0.617255</td>\n",
       "      <td>21.496078</td>\n",
       "    </tr>\n",
       "    <tr>\n",
       "      <th>std</th>\n",
       "      <td>0.373007</td>\n",
       "      <td>45.311056</td>\n",
       "      <td>49.464862</td>\n",
       "      <td>94.444136</td>\n",
       "      <td>0.340371</td>\n",
       "      <td>2.111583</td>\n",
       "    </tr>\n",
       "    <tr>\n",
       "      <th>min</th>\n",
       "      <td>0.020000</td>\n",
       "      <td>497.000000</td>\n",
       "      <td>480.000000</td>\n",
       "      <td>977.000000</td>\n",
       "      <td>0.070000</td>\n",
       "      <td>17.700000</td>\n",
       "    </tr>\n",
       "    <tr>\n",
       "      <th>25%</th>\n",
       "      <td>0.045000</td>\n",
       "      <td>535.000000</td>\n",
       "      <td>521.500000</td>\n",
       "      <td>1063.000000</td>\n",
       "      <td>0.285000</td>\n",
       "      <td>19.950000</td>\n",
       "    </tr>\n",
       "    <tr>\n",
       "      <th>50%</th>\n",
       "      <td>0.480000</td>\n",
       "      <td>554.000000</td>\n",
       "      <td>547.000000</td>\n",
       "      <td>1099.000000</td>\n",
       "      <td>0.660000</td>\n",
       "      <td>21.300000</td>\n",
       "    </tr>\n",
       "    <tr>\n",
       "      <th>75%</th>\n",
       "      <td>0.775000</td>\n",
       "      <td>616.500000</td>\n",
       "      <td>601.000000</td>\n",
       "      <td>1220.000000</td>\n",
       "      <td>1.000000</td>\n",
       "      <td>23.650000</td>\n",
       "    </tr>\n",
       "    <tr>\n",
       "      <th>max</th>\n",
       "      <td>1.000000</td>\n",
       "      <td>643.000000</td>\n",
       "      <td>655.000000</td>\n",
       "      <td>1298.000000</td>\n",
       "      <td>1.000000</td>\n",
       "      <td>25.600000</td>\n",
       "    </tr>\n",
       "  </tbody>\n",
       "</table>\n",
       "</div>"
      ],
      "text/plain": [
       "       sat_participation_18  sat_reading_writing_18  sat_math_18  \\\n",
       "count             51.000000               51.000000    51.000000   \n",
       "mean               0.452353              567.705882   558.450980   \n",
       "std                0.373007               45.311056    49.464862   \n",
       "min                0.020000              497.000000   480.000000   \n",
       "25%                0.045000              535.000000   521.500000   \n",
       "50%                0.480000              554.000000   547.000000   \n",
       "75%                0.775000              616.500000   601.000000   \n",
       "max                1.000000              643.000000   655.000000   \n",
       "\n",
       "       sat_total_18  act_participation_18  act_composite_18  \n",
       "count     51.000000             51.000000         51.000000  \n",
       "mean    1126.156863              0.617255         21.496078  \n",
       "std       94.444136              0.340371          2.111583  \n",
       "min      977.000000              0.070000         17.700000  \n",
       "25%     1063.000000              0.285000         19.950000  \n",
       "50%     1099.000000              0.660000         21.300000  \n",
       "75%     1220.000000              1.000000         23.650000  \n",
       "max     1298.000000              1.000000         25.600000  "
      ]
     },
     "execution_count": 18,
     "metadata": {},
     "output_type": "execute_result"
    }
   ],
   "source": [
    "sat_act_2018.describe()   #checking to make sure there are no odd min or max values that might be incorrect entries."
   ]
  },
  {
   "cell_type": "code",
   "execution_count": 19,
   "metadata": {},
   "outputs": [
    {
     "data": {
      "text/plain": [
       "state                      object\n",
       "sat_participation_18      float64\n",
       "sat_reading_writing_18      int64\n",
       "sat_math_18                 int64\n",
       "sat_total_18                int64\n",
       "act_participation_18      float64\n",
       "act_composite_18          float64\n",
       "dtype: object"
      ]
     },
     "execution_count": 19,
     "metadata": {},
     "output_type": "execute_result"
    }
   ],
   "source": [
    "sat_act_2018.dtypes     #confirming that data types are correct.  Everything looks good."
   ]
  },
  {
   "cell_type": "code",
   "execution_count": 20,
   "metadata": {
    "scrolled": true
   },
   "outputs": [],
   "source": [
    "#Combines 2017 and 2018 data into a single dataframe, joining on state names.\n",
    "final_sat_act = sat_act_2017.merge(sat_act_2018,how=\"outer\",on=['state'])"
   ]
  },
  {
   "cell_type": "markdown",
   "metadata": {},
   "source": [
    "## 2017-18 SAT/ACT Data Dictionary\n",
    "\n",
    "|Feature|Type|Dataset|Description|\n",
    "|---|---|---|---|\n",
    "|**state**|*object*|SAT/ACT|State|\n",
    "|**sat_participation_17**|*float*|SAT|Statewide SAT Participation Rate, 2017|\n",
    "|**sat_reading_writing_17**|*integer*|SAT|State mean score, SAT Reading/Writing (200-800), 2017|\n",
    "|**sat_math_17**|*integer*|SAT|State mean score, SAT Math (200-800), 2017|\n",
    "|**sat_total_17**|*integer*|SAT|State mean total SAT score (400-1600), 2017|\n",
    "|**act_participation_17**|*float*|ACT|Statewide ACT Participation Rate, 2017|\n",
    "|**act_english_17**|*float*|ACT|State mean score, ACT English (1-36), 2017|\n",
    "|**act_math_17**|*float*|ACT|State mean score, ACT English (1-36), 2017|\n",
    "|**act_reading_17**|*float*|ACT|State mean score, ACT Reading (1-36), 2017|\n",
    "|**act_science_17**|*float*|ACT|State mean score, ACT Science (1-36), 2017|\n",
    "|**act_composite_17**|*float*|ACT|State mean ACT Composite Score (1-36), 2017|\n",
    "|**sat_participation_18**|*float*|SAT|Statewide SAT Participation Rate, 2018|\n",
    "|**sat_reading_writing_18**|*integer*|SAT|State mean score, SAT Reading/Writing (200-800), 2018|\n",
    "|**sat_math_18**|*integer*|SAT|State mean score, SAT Math (200-800), 2018|\n",
    "|**sat_total_18**|*integer*|SAT|State mean total SAT score (400-1600), 2018|\n",
    "|**act_participation_18**|*float*|ACT|Statewide ACT Participation Rate, 2018|\n",
    "|**act_composite_18**|*float*|ACT|State mean ACT Composite Score (1-36), 2018|"
   ]
  },
  {
   "cell_type": "markdown",
   "metadata": {},
   "source": [
    "NOTE: 2018 scoring data for individual sections of the ACT were not yet available at the time of this analysis."
   ]
  },
  {
   "cell_type": "markdown",
   "metadata": {},
   "source": [
    "## Exploring the Data"
   ]
  },
  {
   "cell_type": "markdown",
   "metadata": {},
   "source": [
    "### Lowest and Highest SAT participation states, 2017 and 2018"
   ]
  },
  {
   "cell_type": "code",
   "execution_count": 21,
   "metadata": {},
   "outputs": [
    {
     "data": {
      "text/html": [
       "<div>\n",
       "<style scoped>\n",
       "    .dataframe tbody tr th:only-of-type {\n",
       "        vertical-align: middle;\n",
       "    }\n",
       "\n",
       "    .dataframe tbody tr th {\n",
       "        vertical-align: top;\n",
       "    }\n",
       "\n",
       "    .dataframe thead th {\n",
       "        text-align: right;\n",
       "    }\n",
       "</style>\n",
       "<table border=\"1\" class=\"dataframe\">\n",
       "  <thead>\n",
       "    <tr style=\"text-align: right;\">\n",
       "      <th></th>\n",
       "      <th>state</th>\n",
       "      <th>sat_participation_17</th>\n",
       "    </tr>\n",
       "  </thead>\n",
       "  <tbody>\n",
       "    <tr>\n",
       "      <th>34</th>\n",
       "      <td>North Dakota</td>\n",
       "      <td>0.02</td>\n",
       "    </tr>\n",
       "    <tr>\n",
       "      <th>24</th>\n",
       "      <td>Mississippi</td>\n",
       "      <td>0.02</td>\n",
       "    </tr>\n",
       "    <tr>\n",
       "      <th>15</th>\n",
       "      <td>Iowa</td>\n",
       "      <td>0.02</td>\n",
       "    </tr>\n",
       "    <tr>\n",
       "      <th>25</th>\n",
       "      <td>Missouri</td>\n",
       "      <td>0.03</td>\n",
       "    </tr>\n",
       "    <tr>\n",
       "      <th>44</th>\n",
       "      <td>Utah</td>\n",
       "      <td>0.03</td>\n",
       "    </tr>\n",
       "  </tbody>\n",
       "</table>\n",
       "</div>"
      ],
      "text/plain": [
       "           state  sat_participation_17\n",
       "34  North Dakota                  0.02\n",
       "24   Mississippi                  0.02\n",
       "15          Iowa                  0.02\n",
       "25      Missouri                  0.03\n",
       "44          Utah                  0.03"
      ]
     },
     "execution_count": 21,
     "metadata": {},
     "output_type": "execute_result"
    }
   ],
   "source": [
    "#Lowest SAT participation states, 2017\n",
    "final_sat_act.sort_values('sat_participation_17')[['state','sat_participation_17']].head()"
   ]
  },
  {
   "cell_type": "code",
   "execution_count": 22,
   "metadata": {},
   "outputs": [
    {
     "data": {
      "text/html": [
       "<div>\n",
       "<style scoped>\n",
       "    .dataframe tbody tr th:only-of-type {\n",
       "        vertical-align: middle;\n",
       "    }\n",
       "\n",
       "    .dataframe tbody tr th {\n",
       "        vertical-align: top;\n",
       "    }\n",
       "\n",
       "    .dataframe thead th {\n",
       "        text-align: right;\n",
       "    }\n",
       "</style>\n",
       "<table border=\"1\" class=\"dataframe\">\n",
       "  <thead>\n",
       "    <tr style=\"text-align: right;\">\n",
       "      <th></th>\n",
       "      <th>state</th>\n",
       "      <th>sat_participation_17</th>\n",
       "    </tr>\n",
       "  </thead>\n",
       "  <tbody>\n",
       "    <tr>\n",
       "      <th>8</th>\n",
       "      <td>District of Columbia</td>\n",
       "      <td>1.00</td>\n",
       "    </tr>\n",
       "    <tr>\n",
       "      <th>22</th>\n",
       "      <td>Michigan</td>\n",
       "      <td>1.00</td>\n",
       "    </tr>\n",
       "    <tr>\n",
       "      <th>6</th>\n",
       "      <td>Connecticut</td>\n",
       "      <td>1.00</td>\n",
       "    </tr>\n",
       "    <tr>\n",
       "      <th>7</th>\n",
       "      <td>Delaware</td>\n",
       "      <td>1.00</td>\n",
       "    </tr>\n",
       "    <tr>\n",
       "      <th>29</th>\n",
       "      <td>New Hampshire</td>\n",
       "      <td>0.96</td>\n",
       "    </tr>\n",
       "  </tbody>\n",
       "</table>\n",
       "</div>"
      ],
      "text/plain": [
       "                   state  sat_participation_17\n",
       "8   District of Columbia                  1.00\n",
       "22              Michigan                  1.00\n",
       "6            Connecticut                  1.00\n",
       "7               Delaware                  1.00\n",
       "29         New Hampshire                  0.96"
      ]
     },
     "execution_count": 22,
     "metadata": {},
     "output_type": "execute_result"
    }
   ],
   "source": [
    "#Highest SAT participation states, 2017\n",
    "final_sat_act.sort_values('sat_participation_17',ascending=False)[['state','sat_participation_17']].head()"
   ]
  },
  {
   "cell_type": "markdown",
   "metadata": {},
   "source": [
    "Here we can see that North Dakota, Mississippi, and Iowa had the lowest participation rates in the 2017 SAT (only 2%), while D.C., Michigan, Connecticut, and Delaware all had 100% participation rates."
   ]
  },
  {
   "cell_type": "code",
   "execution_count": 23,
   "metadata": {},
   "outputs": [
    {
     "data": {
      "text/html": [
       "<div>\n",
       "<style scoped>\n",
       "    .dataframe tbody tr th:only-of-type {\n",
       "        vertical-align: middle;\n",
       "    }\n",
       "\n",
       "    .dataframe tbody tr th {\n",
       "        vertical-align: top;\n",
       "    }\n",
       "\n",
       "    .dataframe thead th {\n",
       "        text-align: right;\n",
       "    }\n",
       "</style>\n",
       "<table border=\"1\" class=\"dataframe\">\n",
       "  <thead>\n",
       "    <tr style=\"text-align: right;\">\n",
       "      <th></th>\n",
       "      <th>state</th>\n",
       "      <th>sat_participation_18</th>\n",
       "    </tr>\n",
       "  </thead>\n",
       "  <tbody>\n",
       "    <tr>\n",
       "      <th>34</th>\n",
       "      <td>North Dakota</td>\n",
       "      <td>0.02</td>\n",
       "    </tr>\n",
       "    <tr>\n",
       "      <th>50</th>\n",
       "      <td>Wyoming</td>\n",
       "      <td>0.03</td>\n",
       "    </tr>\n",
       "    <tr>\n",
       "      <th>41</th>\n",
       "      <td>South Dakota</td>\n",
       "      <td>0.03</td>\n",
       "    </tr>\n",
       "    <tr>\n",
       "      <th>27</th>\n",
       "      <td>Nebraska</td>\n",
       "      <td>0.03</td>\n",
       "    </tr>\n",
       "    <tr>\n",
       "      <th>49</th>\n",
       "      <td>Wisconsin</td>\n",
       "      <td>0.03</td>\n",
       "    </tr>\n",
       "  </tbody>\n",
       "</table>\n",
       "</div>"
      ],
      "text/plain": [
       "           state  sat_participation_18\n",
       "34  North Dakota                  0.02\n",
       "50       Wyoming                  0.03\n",
       "41  South Dakota                  0.03\n",
       "27      Nebraska                  0.03\n",
       "49     Wisconsin                  0.03"
      ]
     },
     "execution_count": 23,
     "metadata": {},
     "output_type": "execute_result"
    }
   ],
   "source": [
    "#Lowest SAT participation states, 2018\n",
    "final_sat_act.sort_values('sat_participation_18')[['state','sat_participation_18']].head()"
   ]
  },
  {
   "cell_type": "code",
   "execution_count": 24,
   "metadata": {},
   "outputs": [
    {
     "data": {
      "text/html": [
       "<div>\n",
       "<style scoped>\n",
       "    .dataframe tbody tr th:only-of-type {\n",
       "        vertical-align: middle;\n",
       "    }\n",
       "\n",
       "    .dataframe tbody tr th {\n",
       "        vertical-align: top;\n",
       "    }\n",
       "\n",
       "    .dataframe thead th {\n",
       "        text-align: right;\n",
       "    }\n",
       "</style>\n",
       "<table border=\"1\" class=\"dataframe\">\n",
       "  <thead>\n",
       "    <tr style=\"text-align: right;\">\n",
       "      <th></th>\n",
       "      <th>state</th>\n",
       "      <th>sat_participation_18</th>\n",
       "    </tr>\n",
       "  </thead>\n",
       "  <tbody>\n",
       "    <tr>\n",
       "      <th>22</th>\n",
       "      <td>Michigan</td>\n",
       "      <td>1.00</td>\n",
       "    </tr>\n",
       "    <tr>\n",
       "      <th>6</th>\n",
       "      <td>Connecticut</td>\n",
       "      <td>1.00</td>\n",
       "    </tr>\n",
       "    <tr>\n",
       "      <th>7</th>\n",
       "      <td>Delaware</td>\n",
       "      <td>1.00</td>\n",
       "    </tr>\n",
       "    <tr>\n",
       "      <th>12</th>\n",
       "      <td>Idaho</td>\n",
       "      <td>1.00</td>\n",
       "    </tr>\n",
       "    <tr>\n",
       "      <th>19</th>\n",
       "      <td>Maine</td>\n",
       "      <td>0.99</td>\n",
       "    </tr>\n",
       "  </tbody>\n",
       "</table>\n",
       "</div>"
      ],
      "text/plain": [
       "          state  sat_participation_18\n",
       "22     Michigan                  1.00\n",
       "6   Connecticut                  1.00\n",
       "7      Delaware                  1.00\n",
       "12        Idaho                  1.00\n",
       "19        Maine                  0.99"
      ]
     },
     "execution_count": 24,
     "metadata": {},
     "output_type": "execute_result"
    }
   ],
   "source": [
    "#Highest SAT participation states, 2018\n",
    "final_sat_act.sort_values('sat_participation_18',ascending=False)[['state','sat_participation_18']].head()"
   ]
  },
  {
   "cell_type": "markdown",
   "metadata": {},
   "source": [
    "North Dakota again tops the list for lowest participation in the 2018 SAT (2%).  Michigan, Connecticut, and Delaware all show 100% participation rates again, as well as Idaho, which had been 93% the previous year.  At a glance, it appears that the same states show similar rates year to year.  Moreover, the difference is not strictly regional.  Michigan has 100% participation both years, while demographically similar and geographically nearby Wisconsin has participation of only 3% for both years.  This suggests that state policies for test taking requirements or state reporting may be playing a significant role in the participation numbers."
   ]
  },
  {
   "cell_type": "markdown",
   "metadata": {},
   "source": [
    "### Lowest and Highest ACT Participation Rates, 2017 and 2018"
   ]
  },
  {
   "cell_type": "code",
   "execution_count": 25,
   "metadata": {},
   "outputs": [
    {
     "data": {
      "text/html": [
       "<div>\n",
       "<style scoped>\n",
       "    .dataframe tbody tr th:only-of-type {\n",
       "        vertical-align: middle;\n",
       "    }\n",
       "\n",
       "    .dataframe tbody tr th {\n",
       "        vertical-align: top;\n",
       "    }\n",
       "\n",
       "    .dataframe thead th {\n",
       "        text-align: right;\n",
       "    }\n",
       "</style>\n",
       "<table border=\"1\" class=\"dataframe\">\n",
       "  <thead>\n",
       "    <tr style=\"text-align: right;\">\n",
       "      <th></th>\n",
       "      <th>state</th>\n",
       "      <th>act_participation_17</th>\n",
       "    </tr>\n",
       "  </thead>\n",
       "  <tbody>\n",
       "    <tr>\n",
       "      <th>19</th>\n",
       "      <td>Maine</td>\n",
       "      <td>0.08</td>\n",
       "    </tr>\n",
       "    <tr>\n",
       "      <th>29</th>\n",
       "      <td>New Hampshire</td>\n",
       "      <td>0.18</td>\n",
       "    </tr>\n",
       "    <tr>\n",
       "      <th>7</th>\n",
       "      <td>Delaware</td>\n",
       "      <td>0.18</td>\n",
       "    </tr>\n",
       "    <tr>\n",
       "      <th>39</th>\n",
       "      <td>Rhode Island</td>\n",
       "      <td>0.21</td>\n",
       "    </tr>\n",
       "    <tr>\n",
       "      <th>38</th>\n",
       "      <td>Pennsylvania</td>\n",
       "      <td>0.23</td>\n",
       "    </tr>\n",
       "  </tbody>\n",
       "</table>\n",
       "</div>"
      ],
      "text/plain": [
       "            state  act_participation_17\n",
       "19          Maine                  0.08\n",
       "29  New Hampshire                  0.18\n",
       "7        Delaware                  0.18\n",
       "39   Rhode Island                  0.21\n",
       "38   Pennsylvania                  0.23"
      ]
     },
     "execution_count": 25,
     "metadata": {},
     "output_type": "execute_result"
    }
   ],
   "source": [
    "#Highest ACT participation states, 2017\n",
    "final_sat_act.sort_values('act_participation_17')[['state','act_participation_17']].head()"
   ]
  },
  {
   "cell_type": "code",
   "execution_count": 26,
   "metadata": {},
   "outputs": [
    {
     "data": {
      "text/html": [
       "<div>\n",
       "<style scoped>\n",
       "    .dataframe tbody tr th:only-of-type {\n",
       "        vertical-align: middle;\n",
       "    }\n",
       "\n",
       "    .dataframe tbody tr th {\n",
       "        vertical-align: top;\n",
       "    }\n",
       "\n",
       "    .dataframe thead th {\n",
       "        text-align: right;\n",
       "    }\n",
       "</style>\n",
       "<table border=\"1\" class=\"dataframe\">\n",
       "  <thead>\n",
       "    <tr style=\"text-align: right;\">\n",
       "      <th></th>\n",
       "      <th>state</th>\n",
       "      <th>act_participation_17</th>\n",
       "    </tr>\n",
       "  </thead>\n",
       "  <tbody>\n",
       "    <tr>\n",
       "      <th>0</th>\n",
       "      <td>Alabama</td>\n",
       "      <td>1.00</td>\n",
       "    </tr>\n",
       "    <tr>\n",
       "      <th>17</th>\n",
       "      <td>Kentucky</td>\n",
       "      <td>1.00</td>\n",
       "    </tr>\n",
       "    <tr>\n",
       "      <th>49</th>\n",
       "      <td>Wisconsin</td>\n",
       "      <td>1.00</td>\n",
       "    </tr>\n",
       "    <tr>\n",
       "      <th>44</th>\n",
       "      <td>Utah</td>\n",
       "      <td>1.00</td>\n",
       "    </tr>\n",
       "    <tr>\n",
       "      <th>42</th>\n",
       "      <td>Tennessee</td>\n",
       "      <td>1.00</td>\n",
       "    </tr>\n",
       "    <tr>\n",
       "      <th>40</th>\n",
       "      <td>South Carolina</td>\n",
       "      <td>1.00</td>\n",
       "    </tr>\n",
       "    <tr>\n",
       "      <th>36</th>\n",
       "      <td>Oklahoma</td>\n",
       "      <td>1.00</td>\n",
       "    </tr>\n",
       "    <tr>\n",
       "      <th>33</th>\n",
       "      <td>North Carolina</td>\n",
       "      <td>1.00</td>\n",
       "    </tr>\n",
       "    <tr>\n",
       "      <th>28</th>\n",
       "      <td>Nevada</td>\n",
       "      <td>1.00</td>\n",
       "    </tr>\n",
       "    <tr>\n",
       "      <th>26</th>\n",
       "      <td>Montana</td>\n",
       "      <td>1.00</td>\n",
       "    </tr>\n",
       "    <tr>\n",
       "      <th>24</th>\n",
       "      <td>Mississippi</td>\n",
       "      <td>1.00</td>\n",
       "    </tr>\n",
       "    <tr>\n",
       "      <th>23</th>\n",
       "      <td>Minnesota</td>\n",
       "      <td>1.00</td>\n",
       "    </tr>\n",
       "    <tr>\n",
       "      <th>18</th>\n",
       "      <td>Louisiana</td>\n",
       "      <td>1.00</td>\n",
       "    </tr>\n",
       "    <tr>\n",
       "      <th>25</th>\n",
       "      <td>Missouri</td>\n",
       "      <td>1.00</td>\n",
       "    </tr>\n",
       "    <tr>\n",
       "      <th>50</th>\n",
       "      <td>Wyoming</td>\n",
       "      <td>1.00</td>\n",
       "    </tr>\n",
       "    <tr>\n",
       "      <th>5</th>\n",
       "      <td>Colorado</td>\n",
       "      <td>1.00</td>\n",
       "    </tr>\n",
       "    <tr>\n",
       "      <th>3</th>\n",
       "      <td>Arkansas</td>\n",
       "      <td>1.00</td>\n",
       "    </tr>\n",
       "    <tr>\n",
       "      <th>34</th>\n",
       "      <td>North Dakota</td>\n",
       "      <td>0.98</td>\n",
       "    </tr>\n",
       "    <tr>\n",
       "      <th>13</th>\n",
       "      <td>Illinois</td>\n",
       "      <td>0.93</td>\n",
       "    </tr>\n",
       "    <tr>\n",
       "      <th>11</th>\n",
       "      <td>Hawaii</td>\n",
       "      <td>0.90</td>\n",
       "    </tr>\n",
       "  </tbody>\n",
       "</table>\n",
       "</div>"
      ],
      "text/plain": [
       "             state  act_participation_17\n",
       "0          Alabama                  1.00\n",
       "17        Kentucky                  1.00\n",
       "49       Wisconsin                  1.00\n",
       "44            Utah                  1.00\n",
       "42       Tennessee                  1.00\n",
       "40  South Carolina                  1.00\n",
       "36        Oklahoma                  1.00\n",
       "33  North Carolina                  1.00\n",
       "28          Nevada                  1.00\n",
       "26         Montana                  1.00\n",
       "24     Mississippi                  1.00\n",
       "23       Minnesota                  1.00\n",
       "18       Louisiana                  1.00\n",
       "25        Missouri                  1.00\n",
       "50         Wyoming                  1.00\n",
       "5         Colorado                  1.00\n",
       "3         Arkansas                  1.00\n",
       "34    North Dakota                  0.98\n",
       "13        Illinois                  0.93\n",
       "11          Hawaii                  0.90"
      ]
     },
     "execution_count": 26,
     "metadata": {},
     "output_type": "execute_result"
    }
   ],
   "source": [
    "#Lowest ACT participation states, 2017\n",
    "final_sat_act.sort_values('act_participation_17',ascending=False)[['state','act_participation_17']].head(20)"
   ]
  },
  {
   "cell_type": "markdown",
   "metadata": {},
   "source": [
    "Here we can see a few things.  First, **the ACT seems to have a higher minimum participation rate across the country**.  Maine is the lowest in 2017, at 8%, aside from that the second lowest is New Hampshire at 18%.  This is a marked difference from the 15-20 states with SAT participation rates under 5%.  It appears that **while the SAT is almost completely irrelevant in certain states, the ACT has a baseline following nationwide**.  Perhaps this can be explained by students who want to demonstrate proficiency in science.  Or perhaps states or regions where the SAT is the test of record have more developed college preparatory programs that produce a greater portion of students seeking to take both tests.  \n",
    "\n",
    "Second, we see that a full **17 states have 100% participation rates for the ACT in 2017**. This introduces a third possibility, that the ACT is simply outpacing the popularity of the SAT altogether.  \n",
    "\n",
    "Finally, it is worth noting that in most cases, **a state with high participation in one test tends toward lower participation in the other**."
   ]
  },
  {
   "cell_type": "code",
   "execution_count": 27,
   "metadata": {},
   "outputs": [
    {
     "data": {
      "text/html": [
       "<div>\n",
       "<style scoped>\n",
       "    .dataframe tbody tr th:only-of-type {\n",
       "        vertical-align: middle;\n",
       "    }\n",
       "\n",
       "    .dataframe tbody tr th {\n",
       "        vertical-align: top;\n",
       "    }\n",
       "\n",
       "    .dataframe thead th {\n",
       "        text-align: right;\n",
       "    }\n",
       "</style>\n",
       "<table border=\"1\" class=\"dataframe\">\n",
       "  <thead>\n",
       "    <tr style=\"text-align: right;\">\n",
       "      <th></th>\n",
       "      <th>state</th>\n",
       "      <th>act_participation_18</th>\n",
       "    </tr>\n",
       "  </thead>\n",
       "  <tbody>\n",
       "    <tr>\n",
       "      <th>19</th>\n",
       "      <td>Maine</td>\n",
       "      <td>0.07</td>\n",
       "    </tr>\n",
       "    <tr>\n",
       "      <th>39</th>\n",
       "      <td>Rhode Island</td>\n",
       "      <td>0.15</td>\n",
       "    </tr>\n",
       "    <tr>\n",
       "      <th>29</th>\n",
       "      <td>New Hampshire</td>\n",
       "      <td>0.16</td>\n",
       "    </tr>\n",
       "    <tr>\n",
       "      <th>7</th>\n",
       "      <td>Delaware</td>\n",
       "      <td>0.17</td>\n",
       "    </tr>\n",
       "    <tr>\n",
       "      <th>38</th>\n",
       "      <td>Pennsylvania</td>\n",
       "      <td>0.20</td>\n",
       "    </tr>\n",
       "  </tbody>\n",
       "</table>\n",
       "</div>"
      ],
      "text/plain": [
       "            state  act_participation_18\n",
       "19          Maine                  0.07\n",
       "39   Rhode Island                  0.15\n",
       "29  New Hampshire                  0.16\n",
       "7        Delaware                  0.17\n",
       "38   Pennsylvania                  0.20"
      ]
     },
     "execution_count": 27,
     "metadata": {},
     "output_type": "execute_result"
    }
   ],
   "source": [
    "#Lowest ACT participation states, 2018\n",
    "final_sat_act.sort_values('act_participation_18')[['state','act_participation_18']].head()"
   ]
  },
  {
   "cell_type": "markdown",
   "metadata": {},
   "source": [
    "Similar ACT participation rates prevail across most states in 2018, with around 20 states again having 100% participation. Maine continues to have the lowest ACT participation, down to 7%, followed by Rhode Island, New Hampshire and Delaware.  "
   ]
  },
  {
   "cell_type": "markdown",
   "metadata": {},
   "source": [
    "### Highest and Lowest Mean SAT Scores by State, 2017 and 2018"
   ]
  },
  {
   "cell_type": "code",
   "execution_count": 28,
   "metadata": {},
   "outputs": [
    {
     "data": {
      "text/html": [
       "<div>\n",
       "<style scoped>\n",
       "    .dataframe tbody tr th:only-of-type {\n",
       "        vertical-align: middle;\n",
       "    }\n",
       "\n",
       "    .dataframe tbody tr th {\n",
       "        vertical-align: top;\n",
       "    }\n",
       "\n",
       "    .dataframe thead th {\n",
       "        text-align: right;\n",
       "    }\n",
       "</style>\n",
       "<table border=\"1\" class=\"dataframe\">\n",
       "  <thead>\n",
       "    <tr style=\"text-align: right;\">\n",
       "      <th></th>\n",
       "      <th>state</th>\n",
       "      <th>sat_total_17</th>\n",
       "      <th>sat_participation_17</th>\n",
       "    </tr>\n",
       "  </thead>\n",
       "  <tbody>\n",
       "    <tr>\n",
       "      <th>8</th>\n",
       "      <td>District of Columbia</td>\n",
       "      <td>950</td>\n",
       "      <td>1.00</td>\n",
       "    </tr>\n",
       "    <tr>\n",
       "      <th>7</th>\n",
       "      <td>Delaware</td>\n",
       "      <td>996</td>\n",
       "      <td>1.00</td>\n",
       "    </tr>\n",
       "    <tr>\n",
       "      <th>12</th>\n",
       "      <td>Idaho</td>\n",
       "      <td>1005</td>\n",
       "      <td>0.93</td>\n",
       "    </tr>\n",
       "    <tr>\n",
       "      <th>22</th>\n",
       "      <td>Michigan</td>\n",
       "      <td>1005</td>\n",
       "      <td>1.00</td>\n",
       "    </tr>\n",
       "    <tr>\n",
       "      <th>19</th>\n",
       "      <td>Maine</td>\n",
       "      <td>1012</td>\n",
       "      <td>0.95</td>\n",
       "    </tr>\n",
       "  </tbody>\n",
       "</table>\n",
       "</div>"
      ],
      "text/plain": [
       "                   state  sat_total_17  sat_participation_17\n",
       "8   District of Columbia           950                  1.00\n",
       "7               Delaware           996                  1.00\n",
       "12                 Idaho          1005                  0.93\n",
       "22              Michigan          1005                  1.00\n",
       "19                 Maine          1012                  0.95"
      ]
     },
     "execution_count": 28,
     "metadata": {},
     "output_type": "execute_result"
    }
   ],
   "source": [
    "#Lowest SAT Scores, 2017\n",
    "final_sat_act.sort_values('sat_total_17')[['state','sat_total_17','sat_participation_17']].head()"
   ]
  },
  {
   "cell_type": "code",
   "execution_count": 29,
   "metadata": {},
   "outputs": [
    {
     "data": {
      "text/html": [
       "<div>\n",
       "<style scoped>\n",
       "    .dataframe tbody tr th:only-of-type {\n",
       "        vertical-align: middle;\n",
       "    }\n",
       "\n",
       "    .dataframe tbody tr th {\n",
       "        vertical-align: top;\n",
       "    }\n",
       "\n",
       "    .dataframe thead th {\n",
       "        text-align: right;\n",
       "    }\n",
       "</style>\n",
       "<table border=\"1\" class=\"dataframe\">\n",
       "  <thead>\n",
       "    <tr style=\"text-align: right;\">\n",
       "      <th></th>\n",
       "      <th>state</th>\n",
       "      <th>sat_total_18</th>\n",
       "      <th>sat_participation_18</th>\n",
       "    </tr>\n",
       "  </thead>\n",
       "  <tbody>\n",
       "    <tr>\n",
       "      <th>8</th>\n",
       "      <td>District of Columbia</td>\n",
       "      <td>977</td>\n",
       "      <td>0.92</td>\n",
       "    </tr>\n",
       "    <tr>\n",
       "      <th>7</th>\n",
       "      <td>Delaware</td>\n",
       "      <td>997</td>\n",
       "      <td>1.00</td>\n",
       "    </tr>\n",
       "    <tr>\n",
       "      <th>48</th>\n",
       "      <td>West Virginia</td>\n",
       "      <td>999</td>\n",
       "      <td>0.28</td>\n",
       "    </tr>\n",
       "    <tr>\n",
       "      <th>12</th>\n",
       "      <td>Idaho</td>\n",
       "      <td>1001</td>\n",
       "      <td>1.00</td>\n",
       "    </tr>\n",
       "    <tr>\n",
       "      <th>22</th>\n",
       "      <td>Michigan</td>\n",
       "      <td>1010</td>\n",
       "      <td>1.00</td>\n",
       "    </tr>\n",
       "  </tbody>\n",
       "</table>\n",
       "</div>"
      ],
      "text/plain": [
       "                   state  sat_total_18  sat_participation_18\n",
       "8   District of Columbia           977                  0.92\n",
       "7               Delaware           997                  1.00\n",
       "48         West Virginia           999                  0.28\n",
       "12                 Idaho          1001                  1.00\n",
       "22              Michigan          1010                  1.00"
      ]
     },
     "execution_count": 29,
     "metadata": {},
     "output_type": "execute_result"
    }
   ],
   "source": [
    "#Lowest SAT Scores, 2018\n",
    "final_sat_act.sort_values('sat_total_18')[['state','sat_total_18','sat_participation_18']].head()"
   ]
  },
  {
   "cell_type": "code",
   "execution_count": 30,
   "metadata": {},
   "outputs": [
    {
     "data": {
      "text/html": [
       "<div>\n",
       "<style scoped>\n",
       "    .dataframe tbody tr th:only-of-type {\n",
       "        vertical-align: middle;\n",
       "    }\n",
       "\n",
       "    .dataframe tbody tr th {\n",
       "        vertical-align: top;\n",
       "    }\n",
       "\n",
       "    .dataframe thead th {\n",
       "        text-align: right;\n",
       "    }\n",
       "</style>\n",
       "<table border=\"1\" class=\"dataframe\">\n",
       "  <thead>\n",
       "    <tr style=\"text-align: right;\">\n",
       "      <th></th>\n",
       "      <th>state</th>\n",
       "      <th>sat_total_17</th>\n",
       "      <th>sat_participation_17</th>\n",
       "    </tr>\n",
       "  </thead>\n",
       "  <tbody>\n",
       "    <tr>\n",
       "      <th>23</th>\n",
       "      <td>Minnesota</td>\n",
       "      <td>1295</td>\n",
       "      <td>0.03</td>\n",
       "    </tr>\n",
       "    <tr>\n",
       "      <th>49</th>\n",
       "      <td>Wisconsin</td>\n",
       "      <td>1291</td>\n",
       "      <td>0.03</td>\n",
       "    </tr>\n",
       "    <tr>\n",
       "      <th>15</th>\n",
       "      <td>Iowa</td>\n",
       "      <td>1275</td>\n",
       "      <td>0.02</td>\n",
       "    </tr>\n",
       "    <tr>\n",
       "      <th>25</th>\n",
       "      <td>Missouri</td>\n",
       "      <td>1271</td>\n",
       "      <td>0.03</td>\n",
       "    </tr>\n",
       "    <tr>\n",
       "      <th>16</th>\n",
       "      <td>Kansas</td>\n",
       "      <td>1260</td>\n",
       "      <td>0.04</td>\n",
       "    </tr>\n",
       "  </tbody>\n",
       "</table>\n",
       "</div>"
      ],
      "text/plain": [
       "        state  sat_total_17  sat_participation_17\n",
       "23  Minnesota          1295                  0.03\n",
       "49  Wisconsin          1291                  0.03\n",
       "15       Iowa          1275                  0.02\n",
       "25   Missouri          1271                  0.03\n",
       "16     Kansas          1260                  0.04"
      ]
     },
     "execution_count": 30,
     "metadata": {},
     "output_type": "execute_result"
    }
   ],
   "source": [
    "#Highest SAT Scores, 2017\n",
    "final_sat_act.sort_values('sat_total_17',ascending=False)[['state','sat_total_17','sat_participation_17']].head()"
   ]
  },
  {
   "cell_type": "code",
   "execution_count": 31,
   "metadata": {},
   "outputs": [
    {
     "data": {
      "text/html": [
       "<div>\n",
       "<style scoped>\n",
       "    .dataframe tbody tr th:only-of-type {\n",
       "        vertical-align: middle;\n",
       "    }\n",
       "\n",
       "    .dataframe tbody tr th {\n",
       "        vertical-align: top;\n",
       "    }\n",
       "\n",
       "    .dataframe thead th {\n",
       "        text-align: right;\n",
       "    }\n",
       "</style>\n",
       "<table border=\"1\" class=\"dataframe\">\n",
       "  <thead>\n",
       "    <tr style=\"text-align: right;\">\n",
       "      <th></th>\n",
       "      <th>state</th>\n",
       "      <th>sat_total_18</th>\n",
       "      <th>sat_participation_18</th>\n",
       "    </tr>\n",
       "  </thead>\n",
       "  <tbody>\n",
       "    <tr>\n",
       "      <th>23</th>\n",
       "      <td>Minnesota</td>\n",
       "      <td>1298</td>\n",
       "      <td>0.04</td>\n",
       "    </tr>\n",
       "    <tr>\n",
       "      <th>49</th>\n",
       "      <td>Wisconsin</td>\n",
       "      <td>1294</td>\n",
       "      <td>0.03</td>\n",
       "    </tr>\n",
       "    <tr>\n",
       "      <th>34</th>\n",
       "      <td>North Dakota</td>\n",
       "      <td>1283</td>\n",
       "      <td>0.02</td>\n",
       "    </tr>\n",
       "    <tr>\n",
       "      <th>25</th>\n",
       "      <td>Missouri</td>\n",
       "      <td>1272</td>\n",
       "      <td>0.04</td>\n",
       "    </tr>\n",
       "    <tr>\n",
       "      <th>15</th>\n",
       "      <td>Iowa</td>\n",
       "      <td>1265</td>\n",
       "      <td>0.03</td>\n",
       "    </tr>\n",
       "  </tbody>\n",
       "</table>\n",
       "</div>"
      ],
      "text/plain": [
       "           state  sat_total_18  sat_participation_18\n",
       "23     Minnesota          1298                  0.04\n",
       "49     Wisconsin          1294                  0.03\n",
       "34  North Dakota          1283                  0.02\n",
       "25      Missouri          1272                  0.04\n",
       "15          Iowa          1265                  0.03"
      ]
     },
     "execution_count": 31,
     "metadata": {},
     "output_type": "execute_result"
    }
   ],
   "source": [
    "#Highest SAT Scores, 2018\n",
    "final_sat_act.sort_values('sat_total_18',ascending=False)[['state','sat_total_18','sat_participation_18']].head()"
   ]
  },
  {
   "cell_type": "markdown",
   "metadata": {},
   "source": [
    "The four frames above show the states with the highest mean SAT scores in 2017/18, followed by the lowest. We can see immediately that states appear to occupy the same place year to year.  What jumps out also is that the states with the lowest mean SAT scores (D.C., Delaware, Idaho, Michigan) are among the states with the highest SAT participation rates.  Meanwhile the states with the highest mean SAT scores (Minnesota, Wisconsin, North Dakota, Missouri, Iowa) all have very low participation rates in the test.  The culprit here is **selection bias**.  Students who bother to take the SAT test (most likely in addition to the ACT) in ACT-dominated states tend to be higher-achieving students, in particular students who are pursuing out of state college applications that may require SAT results.  Therefore higher mean SAT scores are not necessarily representative of a better education system.  One exception here is West Virginia, which shows low end SAT scores in spite of low end participation rates.  This is cause for concern."
   ]
  },
  {
   "cell_type": "markdown",
   "metadata": {},
   "source": [
    "### Highest and Lowest Mean ACT Composite Scores by State, 2017 and 2018"
   ]
  },
  {
   "cell_type": "code",
   "execution_count": 32,
   "metadata": {},
   "outputs": [
    {
     "data": {
      "text/html": [
       "<div>\n",
       "<style scoped>\n",
       "    .dataframe tbody tr th:only-of-type {\n",
       "        vertical-align: middle;\n",
       "    }\n",
       "\n",
       "    .dataframe tbody tr th {\n",
       "        vertical-align: top;\n",
       "    }\n",
       "\n",
       "    .dataframe thead th {\n",
       "        text-align: right;\n",
       "    }\n",
       "</style>\n",
       "<table border=\"1\" class=\"dataframe\">\n",
       "  <thead>\n",
       "    <tr style=\"text-align: right;\">\n",
       "      <th></th>\n",
       "      <th>state</th>\n",
       "      <th>act_composite_17</th>\n",
       "      <th>act_participation_17</th>\n",
       "    </tr>\n",
       "  </thead>\n",
       "  <tbody>\n",
       "    <tr>\n",
       "      <th>28</th>\n",
       "      <td>Nevada</td>\n",
       "      <td>17.8</td>\n",
       "      <td>1.0</td>\n",
       "    </tr>\n",
       "    <tr>\n",
       "      <th>24</th>\n",
       "      <td>Mississippi</td>\n",
       "      <td>18.6</td>\n",
       "      <td>1.0</td>\n",
       "    </tr>\n",
       "    <tr>\n",
       "      <th>40</th>\n",
       "      <td>South Carolina</td>\n",
       "      <td>18.7</td>\n",
       "      <td>1.0</td>\n",
       "    </tr>\n",
       "    <tr>\n",
       "      <th>11</th>\n",
       "      <td>Hawaii</td>\n",
       "      <td>19.0</td>\n",
       "      <td>0.9</td>\n",
       "    </tr>\n",
       "    <tr>\n",
       "      <th>33</th>\n",
       "      <td>North Carolina</td>\n",
       "      <td>19.1</td>\n",
       "      <td>1.0</td>\n",
       "    </tr>\n",
       "  </tbody>\n",
       "</table>\n",
       "</div>"
      ],
      "text/plain": [
       "             state  act_composite_17  act_participation_17\n",
       "28          Nevada              17.8                   1.0\n",
       "24     Mississippi              18.6                   1.0\n",
       "40  South Carolina              18.7                   1.0\n",
       "11          Hawaii              19.0                   0.9\n",
       "33  North Carolina              19.1                   1.0"
      ]
     },
     "execution_count": 32,
     "metadata": {},
     "output_type": "execute_result"
    }
   ],
   "source": [
    "#Lowest ACT Scores, 2017\n",
    "final_sat_act.sort_values('act_composite_17')[['state','act_composite_17','act_participation_17']].head()"
   ]
  },
  {
   "cell_type": "code",
   "execution_count": 33,
   "metadata": {},
   "outputs": [
    {
     "data": {
      "text/html": [
       "<div>\n",
       "<style scoped>\n",
       "    .dataframe tbody tr th:only-of-type {\n",
       "        vertical-align: middle;\n",
       "    }\n",
       "\n",
       "    .dataframe tbody tr th {\n",
       "        vertical-align: top;\n",
       "    }\n",
       "\n",
       "    .dataframe thead th {\n",
       "        text-align: right;\n",
       "    }\n",
       "</style>\n",
       "<table border=\"1\" class=\"dataframe\">\n",
       "  <thead>\n",
       "    <tr style=\"text-align: right;\">\n",
       "      <th></th>\n",
       "      <th>state</th>\n",
       "      <th>act_composite_18</th>\n",
       "      <th>act_participation_18</th>\n",
       "    </tr>\n",
       "  </thead>\n",
       "  <tbody>\n",
       "    <tr>\n",
       "      <th>28</th>\n",
       "      <td>Nevada</td>\n",
       "      <td>17.7</td>\n",
       "      <td>1.00</td>\n",
       "    </tr>\n",
       "    <tr>\n",
       "      <th>40</th>\n",
       "      <td>South Carolina</td>\n",
       "      <td>18.3</td>\n",
       "      <td>1.00</td>\n",
       "    </tr>\n",
       "    <tr>\n",
       "      <th>24</th>\n",
       "      <td>Mississippi</td>\n",
       "      <td>18.6</td>\n",
       "      <td>1.00</td>\n",
       "    </tr>\n",
       "    <tr>\n",
       "      <th>11</th>\n",
       "      <td>Hawaii</td>\n",
       "      <td>18.9</td>\n",
       "      <td>0.89</td>\n",
       "    </tr>\n",
       "    <tr>\n",
       "      <th>0</th>\n",
       "      <td>Alabama</td>\n",
       "      <td>19.1</td>\n",
       "      <td>1.00</td>\n",
       "    </tr>\n",
       "  </tbody>\n",
       "</table>\n",
       "</div>"
      ],
      "text/plain": [
       "             state  act_composite_18  act_participation_18\n",
       "28          Nevada              17.7                  1.00\n",
       "40  South Carolina              18.3                  1.00\n",
       "24     Mississippi              18.6                  1.00\n",
       "11          Hawaii              18.9                  0.89\n",
       "0          Alabama              19.1                  1.00"
      ]
     },
     "execution_count": 33,
     "metadata": {},
     "output_type": "execute_result"
    }
   ],
   "source": [
    "#Lowest ACT Scores, 2018\n",
    "final_sat_act.sort_values('act_composite_18')[['state','act_composite_18','act_participation_18']].head()"
   ]
  },
  {
   "cell_type": "code",
   "execution_count": 34,
   "metadata": {},
   "outputs": [
    {
     "data": {
      "text/html": [
       "<div>\n",
       "<style scoped>\n",
       "    .dataframe tbody tr th:only-of-type {\n",
       "        vertical-align: middle;\n",
       "    }\n",
       "\n",
       "    .dataframe tbody tr th {\n",
       "        vertical-align: top;\n",
       "    }\n",
       "\n",
       "    .dataframe thead th {\n",
       "        text-align: right;\n",
       "    }\n",
       "</style>\n",
       "<table border=\"1\" class=\"dataframe\">\n",
       "  <thead>\n",
       "    <tr style=\"text-align: right;\">\n",
       "      <th></th>\n",
       "      <th>state</th>\n",
       "      <th>act_composite_17</th>\n",
       "      <th>act_participation_17</th>\n",
       "    </tr>\n",
       "  </thead>\n",
       "  <tbody>\n",
       "    <tr>\n",
       "      <th>29</th>\n",
       "      <td>New Hampshire</td>\n",
       "      <td>25.5</td>\n",
       "      <td>0.18</td>\n",
       "    </tr>\n",
       "    <tr>\n",
       "      <th>21</th>\n",
       "      <td>Massachusetts</td>\n",
       "      <td>25.4</td>\n",
       "      <td>0.29</td>\n",
       "    </tr>\n",
       "    <tr>\n",
       "      <th>6</th>\n",
       "      <td>Connecticut</td>\n",
       "      <td>25.2</td>\n",
       "      <td>0.31</td>\n",
       "    </tr>\n",
       "    <tr>\n",
       "      <th>19</th>\n",
       "      <td>Maine</td>\n",
       "      <td>24.3</td>\n",
       "      <td>0.08</td>\n",
       "    </tr>\n",
       "    <tr>\n",
       "      <th>8</th>\n",
       "      <td>District of Columbia</td>\n",
       "      <td>24.2</td>\n",
       "      <td>0.32</td>\n",
       "    </tr>\n",
       "  </tbody>\n",
       "</table>\n",
       "</div>"
      ],
      "text/plain": [
       "                   state  act_composite_17  act_participation_17\n",
       "29         New Hampshire              25.5                  0.18\n",
       "21         Massachusetts              25.4                  0.29\n",
       "6            Connecticut              25.2                  0.31\n",
       "19                 Maine              24.3                  0.08\n",
       "8   District of Columbia              24.2                  0.32"
      ]
     },
     "execution_count": 34,
     "metadata": {},
     "output_type": "execute_result"
    }
   ],
   "source": [
    "#Highest ACT Scores, 2017\n",
    "final_sat_act.sort_values('act_composite_17',ascending=False)[['state','act_composite_17','act_participation_17']].head()"
   ]
  },
  {
   "cell_type": "code",
   "execution_count": 35,
   "metadata": {},
   "outputs": [
    {
     "data": {
      "text/html": [
       "<div>\n",
       "<style scoped>\n",
       "    .dataframe tbody tr th:only-of-type {\n",
       "        vertical-align: middle;\n",
       "    }\n",
       "\n",
       "    .dataframe tbody tr th {\n",
       "        vertical-align: top;\n",
       "    }\n",
       "\n",
       "    .dataframe thead th {\n",
       "        text-align: right;\n",
       "    }\n",
       "</style>\n",
       "<table border=\"1\" class=\"dataframe\">\n",
       "  <thead>\n",
       "    <tr style=\"text-align: right;\">\n",
       "      <th></th>\n",
       "      <th>state</th>\n",
       "      <th>act_composite_18</th>\n",
       "      <th>act_participation_18</th>\n",
       "    </tr>\n",
       "  </thead>\n",
       "  <tbody>\n",
       "    <tr>\n",
       "      <th>6</th>\n",
       "      <td>Connecticut</td>\n",
       "      <td>25.6</td>\n",
       "      <td>0.26</td>\n",
       "    </tr>\n",
       "    <tr>\n",
       "      <th>21</th>\n",
       "      <td>Massachusetts</td>\n",
       "      <td>25.5</td>\n",
       "      <td>0.25</td>\n",
       "    </tr>\n",
       "    <tr>\n",
       "      <th>29</th>\n",
       "      <td>New Hampshire</td>\n",
       "      <td>25.1</td>\n",
       "      <td>0.16</td>\n",
       "    </tr>\n",
       "    <tr>\n",
       "      <th>32</th>\n",
       "      <td>New York</td>\n",
       "      <td>24.5</td>\n",
       "      <td>0.27</td>\n",
       "    </tr>\n",
       "    <tr>\n",
       "      <th>22</th>\n",
       "      <td>Michigan</td>\n",
       "      <td>24.2</td>\n",
       "      <td>0.22</td>\n",
       "    </tr>\n",
       "  </tbody>\n",
       "</table>\n",
       "</div>"
      ],
      "text/plain": [
       "            state  act_composite_18  act_participation_18\n",
       "6     Connecticut              25.6                  0.26\n",
       "21  Massachusetts              25.5                  0.25\n",
       "29  New Hampshire              25.1                  0.16\n",
       "32       New York              24.5                  0.27\n",
       "22       Michigan              24.2                  0.22"
      ]
     },
     "execution_count": 35,
     "metadata": {},
     "output_type": "execute_result"
    }
   ],
   "source": [
    "#Highest ACT Scores, 2018\n",
    "final_sat_act.sort_values('act_composite_18',ascending=False)[['state','act_composite_18','act_participation_18']].head()"
   ]
  },
  {
   "cell_type": "markdown",
   "metadata": {},
   "source": [
    "ACT data show a similar effect.  States with high mean ACT composite scores tend to be those with lower participation rates, and vice versa.  \n",
    "\n",
    "However, there are some exceptions, and within the strata of, for example, states with 100% ACT participation, there is variation in mean composite score that is not confounded by the selection bias.  Minnesota, for example, despite 100% participation, ranks 23rd in ACT mean composite score in 2017.  "
   ]
  },
  {
   "cell_type": "markdown",
   "metadata": {},
   "source": [
    "### States with >50% Participation on Both Tests"
   ]
  },
  {
   "cell_type": "code",
   "execution_count": 36,
   "metadata": {
    "scrolled": true
   },
   "outputs": [
    {
     "data": {
      "text/html": [
       "<div>\n",
       "<style scoped>\n",
       "    .dataframe tbody tr th:only-of-type {\n",
       "        vertical-align: middle;\n",
       "    }\n",
       "\n",
       "    .dataframe tbody tr th {\n",
       "        vertical-align: top;\n",
       "    }\n",
       "\n",
       "    .dataframe thead th {\n",
       "        text-align: right;\n",
       "    }\n",
       "</style>\n",
       "<table border=\"1\" class=\"dataframe\">\n",
       "  <thead>\n",
       "    <tr style=\"text-align: right;\">\n",
       "      <th></th>\n",
       "      <th>state</th>\n",
       "      <th>sat_participation_17</th>\n",
       "      <th>act_participation_17</th>\n",
       "    </tr>\n",
       "  </thead>\n",
       "  <tbody>\n",
       "    <tr>\n",
       "      <th>9</th>\n",
       "      <td>Florida</td>\n",
       "      <td>0.83</td>\n",
       "      <td>0.73</td>\n",
       "    </tr>\n",
       "    <tr>\n",
       "      <th>10</th>\n",
       "      <td>Georgia</td>\n",
       "      <td>0.61</td>\n",
       "      <td>0.55</td>\n",
       "    </tr>\n",
       "    <tr>\n",
       "      <th>11</th>\n",
       "      <td>Hawaii</td>\n",
       "      <td>0.55</td>\n",
       "      <td>0.90</td>\n",
       "    </tr>\n",
       "  </tbody>\n",
       "</table>\n",
       "</div>"
      ],
      "text/plain": [
       "      state  sat_participation_17  act_participation_17\n",
       "9   Florida                  0.83                  0.73\n",
       "10  Georgia                  0.61                  0.55\n",
       "11   Hawaii                  0.55                  0.90"
      ]
     },
     "execution_count": 36,
     "metadata": {},
     "output_type": "execute_result"
    }
   ],
   "source": [
    "#this filter looks at all states with a participation rate of at least 50% on both the ACT and SAT in 2017\n",
    "final_sat_act[(final_sat_act['act_participation_17'] > 0.5) & (final_sat_act['sat_participation_17'] > 0.5)][['state','sat_participation_17','act_participation_17']]"
   ]
  },
  {
   "cell_type": "code",
   "execution_count": 37,
   "metadata": {},
   "outputs": [
    {
     "data": {
      "text/html": [
       "<div>\n",
       "<style scoped>\n",
       "    .dataframe tbody tr th:only-of-type {\n",
       "        vertical-align: middle;\n",
       "    }\n",
       "\n",
       "    .dataframe tbody tr th {\n",
       "        vertical-align: top;\n",
       "    }\n",
       "\n",
       "    .dataframe thead th {\n",
       "        text-align: right;\n",
       "    }\n",
       "</style>\n",
       "<table border=\"1\" class=\"dataframe\">\n",
       "  <thead>\n",
       "    <tr style=\"text-align: right;\">\n",
       "      <th></th>\n",
       "      <th>state</th>\n",
       "      <th>sat_participation_18</th>\n",
       "      <th>act_participation_18</th>\n",
       "    </tr>\n",
       "  </thead>\n",
       "  <tbody>\n",
       "    <tr>\n",
       "      <th>9</th>\n",
       "      <td>Florida</td>\n",
       "      <td>0.97</td>\n",
       "      <td>0.66</td>\n",
       "    </tr>\n",
       "    <tr>\n",
       "      <th>10</th>\n",
       "      <td>Georgia</td>\n",
       "      <td>0.70</td>\n",
       "      <td>0.53</td>\n",
       "    </tr>\n",
       "    <tr>\n",
       "      <th>11</th>\n",
       "      <td>Hawaii</td>\n",
       "      <td>0.56</td>\n",
       "      <td>0.89</td>\n",
       "    </tr>\n",
       "    <tr>\n",
       "      <th>33</th>\n",
       "      <td>North Carolina</td>\n",
       "      <td>0.52</td>\n",
       "      <td>1.00</td>\n",
       "    </tr>\n",
       "    <tr>\n",
       "      <th>40</th>\n",
       "      <td>South Carolina</td>\n",
       "      <td>0.55</td>\n",
       "      <td>1.00</td>\n",
       "    </tr>\n",
       "  </tbody>\n",
       "</table>\n",
       "</div>"
      ],
      "text/plain": [
       "             state  sat_participation_18  act_participation_18\n",
       "9          Florida                  0.97                  0.66\n",
       "10         Georgia                  0.70                  0.53\n",
       "11          Hawaii                  0.56                  0.89\n",
       "33  North Carolina                  0.52                  1.00\n",
       "40  South Carolina                  0.55                  1.00"
      ]
     },
     "execution_count": 37,
     "metadata": {},
     "output_type": "execute_result"
    }
   ],
   "source": [
    "#this filter looks at all states with a participation rate of at least 50% on both the ACT and SAT in 2018\n",
    "final_sat_act[(final_sat_act['act_participation_18'] > 0.5) & (final_sat_act['sat_participation_18'] > 0.5)][['state','sat_participation_18','act_participation_18']]"
   ]
  },
  {
   "cell_type": "markdown",
   "metadata": {},
   "source": [
    "The above two frames show that Florida, Georgia and Hawaii were the only states with greater than 50% participation on both the SAT and ACT in 2017.  None of these three has mandatory testing for one of the two tests.  Of the three, Hawaii scored best on the SAT, while Georgia scored best on the ACT, both in 2017 and 2018.  North Carolina and South Carolina, two states that appear to require ACT testing, each eked above 50% SAT participation in 2018 to join these three in this category."
   ]
  },
  {
   "cell_type": "markdown",
   "metadata": {},
   "source": [
    "### High Achieving States"
   ]
  },
  {
   "cell_type": "code",
   "execution_count": 38,
   "metadata": {
    "scrolled": true
   },
   "outputs": [
    {
     "data": {
      "text/html": [
       "<div>\n",
       "<style scoped>\n",
       "    .dataframe tbody tr th:only-of-type {\n",
       "        vertical-align: middle;\n",
       "    }\n",
       "\n",
       "    .dataframe tbody tr th {\n",
       "        vertical-align: top;\n",
       "    }\n",
       "\n",
       "    .dataframe thead th {\n",
       "        text-align: right;\n",
       "    }\n",
       "</style>\n",
       "<table border=\"1\" class=\"dataframe\">\n",
       "  <thead>\n",
       "    <tr style=\"text-align: right;\">\n",
       "      <th></th>\n",
       "      <th>state</th>\n",
       "      <th>sat_participation_18</th>\n",
       "      <th>sat_total_18</th>\n",
       "    </tr>\n",
       "  </thead>\n",
       "  <tbody>\n",
       "    <tr>\n",
       "      <th>21</th>\n",
       "      <td>Massachusetts</td>\n",
       "      <td>0.80</td>\n",
       "      <td>1125</td>\n",
       "    </tr>\n",
       "    <tr>\n",
       "      <th>40</th>\n",
       "      <td>South Carolina</td>\n",
       "      <td>0.55</td>\n",
       "      <td>1106</td>\n",
       "    </tr>\n",
       "    <tr>\n",
       "      <th>45</th>\n",
       "      <td>Vermont</td>\n",
       "      <td>0.64</td>\n",
       "      <td>1119</td>\n",
       "    </tr>\n",
       "    <tr>\n",
       "      <th>46</th>\n",
       "      <td>Virginia</td>\n",
       "      <td>0.68</td>\n",
       "      <td>1117</td>\n",
       "    </tr>\n",
       "  </tbody>\n",
       "</table>\n",
       "</div>"
      ],
      "text/plain": [
       "             state  sat_participation_18  sat_total_18\n",
       "21   Massachusetts                  0.80          1125\n",
       "40  South Carolina                  0.55          1106\n",
       "45         Vermont                  0.64          1119\n",
       "46        Virginia                  0.68          1117"
      ]
     },
     "execution_count": 38,
     "metadata": {},
     "output_type": "execute_result"
    }
   ],
   "source": [
    "#States with participation rate of at least 50% and total score of at least 1100 on the SAT in 2018\n",
    "final_sat_act[(final_sat_act['sat_participation_18'] > 0.5) & (final_sat_act['sat_total_18'] > 1100)][['state','sat_participation_18','sat_total_18']]"
   ]
  },
  {
   "cell_type": "code",
   "execution_count": 39,
   "metadata": {},
   "outputs": [
    {
     "data": {
      "text/html": [
       "<div>\n",
       "<style scoped>\n",
       "    .dataframe tbody tr th:only-of-type {\n",
       "        vertical-align: middle;\n",
       "    }\n",
       "\n",
       "    .dataframe tbody tr th {\n",
       "        vertical-align: top;\n",
       "    }\n",
       "\n",
       "    .dataframe thead th {\n",
       "        text-align: right;\n",
       "    }\n",
       "</style>\n",
       "<table border=\"1\" class=\"dataframe\">\n",
       "  <thead>\n",
       "    <tr style=\"text-align: right;\">\n",
       "      <th></th>\n",
       "      <th>state</th>\n",
       "      <th>act_participation_18</th>\n",
       "      <th>act_composite_18</th>\n",
       "    </tr>\n",
       "  </thead>\n",
       "  <tbody>\n",
       "    <tr>\n",
       "      <th>10</th>\n",
       "      <td>Georgia</td>\n",
       "      <td>0.53</td>\n",
       "      <td>21.4</td>\n",
       "    </tr>\n",
       "    <tr>\n",
       "      <th>15</th>\n",
       "      <td>Iowa</td>\n",
       "      <td>0.68</td>\n",
       "      <td>21.8</td>\n",
       "    </tr>\n",
       "    <tr>\n",
       "      <th>16</th>\n",
       "      <td>Kansas</td>\n",
       "      <td>0.71</td>\n",
       "      <td>21.6</td>\n",
       "    </tr>\n",
       "    <tr>\n",
       "      <th>23</th>\n",
       "      <td>Minnesota</td>\n",
       "      <td>0.99</td>\n",
       "      <td>21.3</td>\n",
       "    </tr>\n",
       "    <tr>\n",
       "      <th>41</th>\n",
       "      <td>South Dakota</td>\n",
       "      <td>0.77</td>\n",
       "      <td>21.9</td>\n",
       "    </tr>\n",
       "  </tbody>\n",
       "</table>\n",
       "</div>"
      ],
      "text/plain": [
       "           state  act_participation_18  act_composite_18\n",
       "10       Georgia                  0.53              21.4\n",
       "15          Iowa                  0.68              21.8\n",
       "16        Kansas                  0.71              21.6\n",
       "23     Minnesota                  0.99              21.3\n",
       "41  South Dakota                  0.77              21.9"
      ]
     },
     "execution_count": 39,
     "metadata": {},
     "output_type": "execute_result"
    }
   ],
   "source": [
    "#States with participation rate of at least 50% and total score of at least 21 on the ACT in 2018\n",
    "final_sat_act[(final_sat_act['act_participation_18'] > 0.5) & (final_sat_act['act_composite_18'] > 21)][['state','act_participation_18','act_composite_18']]"
   ]
  },
  {
   "cell_type": "markdown",
   "metadata": {},
   "source": [
    "The states in the frames above have high participation rates AND high scores for their respective tests in 2018.  These might be regarded as some of the better achieving states overall. "
   ]
  },
  {
   "cell_type": "markdown",
   "metadata": {},
   "source": [
    "### Significant Changes in SAT Participation, 2017-18"
   ]
  },
  {
   "cell_type": "code",
   "execution_count": 40,
   "metadata": {},
   "outputs": [
    {
     "data": {
      "text/html": [
       "<div>\n",
       "<style scoped>\n",
       "    .dataframe tbody tr th:only-of-type {\n",
       "        vertical-align: middle;\n",
       "    }\n",
       "\n",
       "    .dataframe tbody tr th {\n",
       "        vertical-align: top;\n",
       "    }\n",
       "\n",
       "    .dataframe thead th {\n",
       "        text-align: right;\n",
       "    }\n",
       "</style>\n",
       "<table border=\"1\" class=\"dataframe\">\n",
       "  <thead>\n",
       "    <tr style=\"text-align: right;\">\n",
       "      <th></th>\n",
       "      <th>state</th>\n",
       "      <th>sat_participation_17</th>\n",
       "      <th>sat_participation_18</th>\n",
       "      <th>sat_participation_change</th>\n",
       "    </tr>\n",
       "  </thead>\n",
       "  <tbody>\n",
       "    <tr>\n",
       "      <th>13</th>\n",
       "      <td>Illinois</td>\n",
       "      <td>0.09</td>\n",
       "      <td>0.99</td>\n",
       "      <td>0.90</td>\n",
       "    </tr>\n",
       "    <tr>\n",
       "      <th>39</th>\n",
       "      <td>Rhode Island</td>\n",
       "      <td>0.71</td>\n",
       "      <td>0.97</td>\n",
       "      <td>0.26</td>\n",
       "    </tr>\n",
       "    <tr>\n",
       "      <th>5</th>\n",
       "      <td>Colorado</td>\n",
       "      <td>0.11</td>\n",
       "      <td>0.28</td>\n",
       "      <td>0.17</td>\n",
       "    </tr>\n",
       "    <tr>\n",
       "      <th>48</th>\n",
       "      <td>West Virginia</td>\n",
       "      <td>0.14</td>\n",
       "      <td>0.28</td>\n",
       "      <td>0.14</td>\n",
       "    </tr>\n",
       "    <tr>\n",
       "      <th>9</th>\n",
       "      <td>Florida</td>\n",
       "      <td>0.83</td>\n",
       "      <td>0.97</td>\n",
       "      <td>0.14</td>\n",
       "    </tr>\n",
       "    <tr>\n",
       "      <th>30</th>\n",
       "      <td>New Jersey</td>\n",
       "      <td>0.70</td>\n",
       "      <td>0.82</td>\n",
       "      <td>0.12</td>\n",
       "    </tr>\n",
       "    <tr>\n",
       "      <th>32</th>\n",
       "      <td>New York</td>\n",
       "      <td>0.67</td>\n",
       "      <td>0.79</td>\n",
       "      <td>0.12</td>\n",
       "    </tr>\n",
       "    <tr>\n",
       "      <th>10</th>\n",
       "      <td>Georgia</td>\n",
       "      <td>0.61</td>\n",
       "      <td>0.70</td>\n",
       "      <td>0.09</td>\n",
       "    </tr>\n",
       "    <tr>\n",
       "      <th>20</th>\n",
       "      <td>Maryland</td>\n",
       "      <td>0.69</td>\n",
       "      <td>0.76</td>\n",
       "      <td>0.07</td>\n",
       "    </tr>\n",
       "    <tr>\n",
       "      <th>12</th>\n",
       "      <td>Idaho</td>\n",
       "      <td>0.93</td>\n",
       "      <td>1.00</td>\n",
       "      <td>0.07</td>\n",
       "    </tr>\n",
       "  </tbody>\n",
       "</table>\n",
       "</div>"
      ],
      "text/plain": [
       "            state  sat_participation_17  sat_participation_18  \\\n",
       "13       Illinois                  0.09                  0.99   \n",
       "39   Rhode Island                  0.71                  0.97   \n",
       "5        Colorado                  0.11                  0.28   \n",
       "48  West Virginia                  0.14                  0.28   \n",
       "9         Florida                  0.83                  0.97   \n",
       "30     New Jersey                  0.70                  0.82   \n",
       "32       New York                  0.67                  0.79   \n",
       "10        Georgia                  0.61                  0.70   \n",
       "20       Maryland                  0.69                  0.76   \n",
       "12          Idaho                  0.93                  1.00   \n",
       "\n",
       "    sat_participation_change  \n",
       "13                      0.90  \n",
       "39                      0.26  \n",
       "5                       0.17  \n",
       "48                      0.14  \n",
       "9                       0.14  \n",
       "30                      0.12  \n",
       "32                      0.12  \n",
       "10                      0.09  \n",
       "20                      0.07  \n",
       "12                      0.07  "
      ]
     },
     "execution_count": 40,
     "metadata": {},
     "output_type": "execute_result"
    }
   ],
   "source": [
    "#This code adds a column to the dataframe to represent the change in SAT participation from 2017 to 2018\n",
    "#and then sorts the dataframe by that column to show the states with the largest gains in the past year.\n",
    "final_sat_act['sat_participation_change']=final_sat_act['sat_participation_18'] - final_sat_act['sat_participation_17']\n",
    "final_sat_act.sort_values('sat_participation_change',ascending=False)[['state','sat_participation_17','sat_participation_18','sat_participation_change']].head(10)"
   ]
  },
  {
   "cell_type": "markdown",
   "metadata": {},
   "source": [
    "Here we show the ten states with the largest increase in SAT participation from 2017 to 2018.  Identifying states where SAT growth has been on the rise may provide hints for the College Board about which type of state to target in future.\n",
    "\n",
    "Illinois has experienced a massive increase in participation between 2017 and 2018, essentially trading the ACT for the SAT, as ACT participation fell from 93% to 43%, while SAT participation went from 9% to 99%.  Colorado has also seen significant gains in SAT participation, likely due to removing the ACT as mandatory.  Rhode Island and Florida have both shown increases from 70-85% to near perfect participation (97%). West Virginia, meanwhile, despite showing poor scores for such a low participation rate in 2017, shows promise as an area for SAT growth, rising from 14 to 28% participation in 2018, while ACT rates fell from 69% to 65%, seemingly in the absence of any policy requirements.\n",
    "\n",
    "Elsewhere, with the ACT, states like Nebraska and Ohio are up to 100% ACT participation in 2018, from 84% and 75% ACT rates in 2017, respectively. This is likely also the result of policy changes, in this case making ACT testing mandatory."
   ]
  },
  {
   "cell_type": "markdown",
   "metadata": {},
   "source": [
    "### Summary Statistics"
   ]
  },
  {
   "cell_type": "code",
   "execution_count": 41,
   "metadata": {
    "scrolled": true
   },
   "outputs": [
    {
     "data": {
      "text/html": [
       "<div>\n",
       "<style scoped>\n",
       "    .dataframe tbody tr th:only-of-type {\n",
       "        vertical-align: middle;\n",
       "    }\n",
       "\n",
       "    .dataframe tbody tr th {\n",
       "        vertical-align: top;\n",
       "    }\n",
       "\n",
       "    .dataframe thead th {\n",
       "        text-align: right;\n",
       "    }\n",
       "</style>\n",
       "<table border=\"1\" class=\"dataframe\">\n",
       "  <thead>\n",
       "    <tr style=\"text-align: right;\">\n",
       "      <th></th>\n",
       "      <th>count</th>\n",
       "      <th>mean</th>\n",
       "      <th>std</th>\n",
       "      <th>min</th>\n",
       "      <th>25%</th>\n",
       "      <th>50%</th>\n",
       "      <th>75%</th>\n",
       "      <th>max</th>\n",
       "    </tr>\n",
       "  </thead>\n",
       "  <tbody>\n",
       "    <tr>\n",
       "      <th>sat_participation_17</th>\n",
       "      <td>51.0</td>\n",
       "      <td>0.398039</td>\n",
       "      <td>0.352766</td>\n",
       "      <td>0.02</td>\n",
       "      <td>0.040</td>\n",
       "      <td>0.38</td>\n",
       "      <td>0.660</td>\n",
       "      <td>1.0</td>\n",
       "    </tr>\n",
       "    <tr>\n",
       "      <th>sat_reading_writing_17</th>\n",
       "      <td>51.0</td>\n",
       "      <td>569.117647</td>\n",
       "      <td>45.666901</td>\n",
       "      <td>482.00</td>\n",
       "      <td>533.500</td>\n",
       "      <td>559.00</td>\n",
       "      <td>613.000</td>\n",
       "      <td>644.0</td>\n",
       "    </tr>\n",
       "    <tr>\n",
       "      <th>sat_math_17</th>\n",
       "      <td>51.0</td>\n",
       "      <td>556.882353</td>\n",
       "      <td>47.121395</td>\n",
       "      <td>468.00</td>\n",
       "      <td>523.500</td>\n",
       "      <td>548.00</td>\n",
       "      <td>599.000</td>\n",
       "      <td>651.0</td>\n",
       "    </tr>\n",
       "    <tr>\n",
       "      <th>sat_total_17</th>\n",
       "      <td>51.0</td>\n",
       "      <td>1126.098039</td>\n",
       "      <td>92.494812</td>\n",
       "      <td>950.00</td>\n",
       "      <td>1055.500</td>\n",
       "      <td>1107.00</td>\n",
       "      <td>1212.000</td>\n",
       "      <td>1295.0</td>\n",
       "    </tr>\n",
       "    <tr>\n",
       "      <th>act_participation_17</th>\n",
       "      <td>51.0</td>\n",
       "      <td>0.652549</td>\n",
       "      <td>0.321408</td>\n",
       "      <td>0.08</td>\n",
       "      <td>0.310</td>\n",
       "      <td>0.69</td>\n",
       "      <td>1.000</td>\n",
       "      <td>1.0</td>\n",
       "    </tr>\n",
       "    <tr>\n",
       "      <th>act_english_17</th>\n",
       "      <td>51.0</td>\n",
       "      <td>20.931373</td>\n",
       "      <td>2.353677</td>\n",
       "      <td>16.30</td>\n",
       "      <td>19.000</td>\n",
       "      <td>20.70</td>\n",
       "      <td>23.300</td>\n",
       "      <td>25.5</td>\n",
       "    </tr>\n",
       "    <tr>\n",
       "      <th>act_math_17</th>\n",
       "      <td>51.0</td>\n",
       "      <td>21.182353</td>\n",
       "      <td>1.981989</td>\n",
       "      <td>18.00</td>\n",
       "      <td>19.400</td>\n",
       "      <td>20.90</td>\n",
       "      <td>23.100</td>\n",
       "      <td>25.3</td>\n",
       "    </tr>\n",
       "    <tr>\n",
       "      <th>act_reading_17</th>\n",
       "      <td>51.0</td>\n",
       "      <td>22.013725</td>\n",
       "      <td>2.067271</td>\n",
       "      <td>18.10</td>\n",
       "      <td>20.450</td>\n",
       "      <td>21.80</td>\n",
       "      <td>24.150</td>\n",
       "      <td>26.0</td>\n",
       "    </tr>\n",
       "    <tr>\n",
       "      <th>act_science_17</th>\n",
       "      <td>51.0</td>\n",
       "      <td>21.450980</td>\n",
       "      <td>1.739353</td>\n",
       "      <td>18.20</td>\n",
       "      <td>19.950</td>\n",
       "      <td>21.30</td>\n",
       "      <td>23.200</td>\n",
       "      <td>24.9</td>\n",
       "    </tr>\n",
       "    <tr>\n",
       "      <th>act_composite_17</th>\n",
       "      <td>51.0</td>\n",
       "      <td>21.519608</td>\n",
       "      <td>2.020695</td>\n",
       "      <td>17.80</td>\n",
       "      <td>19.800</td>\n",
       "      <td>21.40</td>\n",
       "      <td>23.600</td>\n",
       "      <td>25.5</td>\n",
       "    </tr>\n",
       "    <tr>\n",
       "      <th>sat_participation_18</th>\n",
       "      <td>51.0</td>\n",
       "      <td>0.452353</td>\n",
       "      <td>0.373007</td>\n",
       "      <td>0.02</td>\n",
       "      <td>0.045</td>\n",
       "      <td>0.48</td>\n",
       "      <td>0.775</td>\n",
       "      <td>1.0</td>\n",
       "    </tr>\n",
       "    <tr>\n",
       "      <th>sat_reading_writing_18</th>\n",
       "      <td>51.0</td>\n",
       "      <td>567.705882</td>\n",
       "      <td>45.311056</td>\n",
       "      <td>497.00</td>\n",
       "      <td>535.000</td>\n",
       "      <td>554.00</td>\n",
       "      <td>616.500</td>\n",
       "      <td>643.0</td>\n",
       "    </tr>\n",
       "    <tr>\n",
       "      <th>sat_math_18</th>\n",
       "      <td>51.0</td>\n",
       "      <td>558.450980</td>\n",
       "      <td>49.464862</td>\n",
       "      <td>480.00</td>\n",
       "      <td>521.500</td>\n",
       "      <td>547.00</td>\n",
       "      <td>601.000</td>\n",
       "      <td>655.0</td>\n",
       "    </tr>\n",
       "    <tr>\n",
       "      <th>sat_total_18</th>\n",
       "      <td>51.0</td>\n",
       "      <td>1126.156863</td>\n",
       "      <td>94.444136</td>\n",
       "      <td>977.00</td>\n",
       "      <td>1063.000</td>\n",
       "      <td>1099.00</td>\n",
       "      <td>1220.000</td>\n",
       "      <td>1298.0</td>\n",
       "    </tr>\n",
       "    <tr>\n",
       "      <th>act_participation_18</th>\n",
       "      <td>51.0</td>\n",
       "      <td>0.617255</td>\n",
       "      <td>0.340371</td>\n",
       "      <td>0.07</td>\n",
       "      <td>0.285</td>\n",
       "      <td>0.66</td>\n",
       "      <td>1.000</td>\n",
       "      <td>1.0</td>\n",
       "    </tr>\n",
       "    <tr>\n",
       "      <th>act_composite_18</th>\n",
       "      <td>51.0</td>\n",
       "      <td>21.496078</td>\n",
       "      <td>2.111583</td>\n",
       "      <td>17.70</td>\n",
       "      <td>19.950</td>\n",
       "      <td>21.30</td>\n",
       "      <td>23.650</td>\n",
       "      <td>25.6</td>\n",
       "    </tr>\n",
       "    <tr>\n",
       "      <th>sat_participation_change</th>\n",
       "      <td>51.0</td>\n",
       "      <td>0.054314</td>\n",
       "      <td>0.132985</td>\n",
       "      <td>-0.08</td>\n",
       "      <td>0.000</td>\n",
       "      <td>0.02</td>\n",
       "      <td>0.050</td>\n",
       "      <td>0.9</td>\n",
       "    </tr>\n",
       "  </tbody>\n",
       "</table>\n",
       "</div>"
      ],
      "text/plain": [
       "                          count         mean        std     min       25%  \\\n",
       "sat_participation_17       51.0     0.398039   0.352766    0.02     0.040   \n",
       "sat_reading_writing_17     51.0   569.117647  45.666901  482.00   533.500   \n",
       "sat_math_17                51.0   556.882353  47.121395  468.00   523.500   \n",
       "sat_total_17               51.0  1126.098039  92.494812  950.00  1055.500   \n",
       "act_participation_17       51.0     0.652549   0.321408    0.08     0.310   \n",
       "act_english_17             51.0    20.931373   2.353677   16.30    19.000   \n",
       "act_math_17                51.0    21.182353   1.981989   18.00    19.400   \n",
       "act_reading_17             51.0    22.013725   2.067271   18.10    20.450   \n",
       "act_science_17             51.0    21.450980   1.739353   18.20    19.950   \n",
       "act_composite_17           51.0    21.519608   2.020695   17.80    19.800   \n",
       "sat_participation_18       51.0     0.452353   0.373007    0.02     0.045   \n",
       "sat_reading_writing_18     51.0   567.705882  45.311056  497.00   535.000   \n",
       "sat_math_18                51.0   558.450980  49.464862  480.00   521.500   \n",
       "sat_total_18               51.0  1126.156863  94.444136  977.00  1063.000   \n",
       "act_participation_18       51.0     0.617255   0.340371    0.07     0.285   \n",
       "act_composite_18           51.0    21.496078   2.111583   17.70    19.950   \n",
       "sat_participation_change   51.0     0.054314   0.132985   -0.08     0.000   \n",
       "\n",
       "                              50%       75%     max  \n",
       "sat_participation_17         0.38     0.660     1.0  \n",
       "sat_reading_writing_17     559.00   613.000   644.0  \n",
       "sat_math_17                548.00   599.000   651.0  \n",
       "sat_total_17              1107.00  1212.000  1295.0  \n",
       "act_participation_17         0.69     1.000     1.0  \n",
       "act_english_17              20.70    23.300    25.5  \n",
       "act_math_17                 20.90    23.100    25.3  \n",
       "act_reading_17              21.80    24.150    26.0  \n",
       "act_science_17              21.30    23.200    24.9  \n",
       "act_composite_17            21.40    23.600    25.5  \n",
       "sat_participation_18         0.48     0.775     1.0  \n",
       "sat_reading_writing_18     554.00   616.500   643.0  \n",
       "sat_math_18                547.00   601.000   655.0  \n",
       "sat_total_18              1099.00  1220.000  1298.0  \n",
       "act_participation_18         0.66     1.000     1.0  \n",
       "act_composite_18            21.30    23.650    25.6  \n",
       "sat_participation_change     0.02     0.050     0.9  "
      ]
     },
     "execution_count": 41,
     "metadata": {},
     "output_type": "execute_result"
    }
   ],
   "source": [
    "#Transposing the describe function gives a clean stat summary for each numeric variable across the states\n",
    "final_sat_act.describe().T"
   ]
  },
  {
   "cell_type": "markdown",
   "metadata": {},
   "source": [
    "Looking at the descriptive statistics above, we have the mean and median to indicate center, the std and quartiles to indicate spread, the min and max to indicate range, and between the mean and median we can look for evidence of skew.  A median significantly below the mean will suggest right skew, and significantly above the mean will suggest left skew.\n",
    "\n",
    "ACT composite scores from both years and ACT section scores (6 categories total) all have comparable means between 20.9 (act english 17) and 22.0 (act reading 17).  Standard deviations are all somewhat comparable as well, ranging from a minimum of 1.98 (act math 17) to a maximum stdev of 2.35 (act english 17).  The interquartile range for each of the ACT score distributions is comparable, about 4 points. Furthermore in all of these distributions the mean exceeds the median by between 0.1 and 0.3, suggesting a relatively skewless distribution, maybe a faint right skew if anything.  For SAT scores, meanwhile, we can see that the means for SAT reading are 569 and 567 respectively, and for SAT math 557 and 559, suggesting reproducible results in which the SAT reading score averages slightly higher.  Medians are around 10 points lower in all cases, again suggesting only faint right skew.  Stdevs are comparable (45-49) and interquartile ranges are similar sizes, suggesting consistent spread. \n",
    "\n",
    "However, a look at the histograms indicate that while Math scores for both tests loosely resemble a normal distribution, albeit with the faint right skew described, reading scores for SAT and ACT are distinctly non-normal, showing a bimodal distribution, with a peak just below the center of the distribution and then a smaller peak on the higher end of the distribution. The limitations of summary statistics in describing distributions are apparent.\n",
    "\n",
    "The SAT total score data both show means of 1126, with stdevs of 92 and 94 respectively, in proportion to the stdev of the composing section score data.  The median is again a bit lower than the mean, suggesting slight right skew.  It's worth noting for the SAT score distributions that the 25-50% quartile in all cases is about half the width of the 50-75% quartile, indicating that there is in fact some right skew, and that the scores are more narrowly concentrated in the 25-50th percentile. This effect is also seen, albeit to a lesser degree, in the ACT score distributions, particularly the composite scores.\n",
    "\n",
    "Finally, looking at the participation proportion distributions for ACT and SAT, we see SAT participation has mean of 0.39 in 2017 and 0.45 in 2018.  ACT participation has mean of 0.65 in 2017, 0.62 in 2018.  So we can see that the SAT made modest gains in 2018.  Contrary to the statistical distributions for the various scores, the bodies of which were concentrated well with their possible range, the participation means have stdevs that are large relative to the mean.  Both tests show participation stdevs in the 0.3 - 0.4 range.  A look at the histogram indicates that the distributions of both SAT and ACT scores are roughly trimodal.  SAT has a large peak around 0 and a smaller peak around 1, ACT has the opposite.  Each have a third peak centrally, with the SAT's around 0.6 and the ACT's around 0.3."
   ]
  },
  {
   "cell_type": "markdown",
   "metadata": {},
   "source": [
    "### Correlation Heatmap"
   ]
  },
  {
   "cell_type": "code",
   "execution_count": 42,
   "metadata": {},
   "outputs": [
    {
     "data": {
      "image/png": "[encoded data removed]",
      "text/plain": [
       "<Figure size 864x864 with 2 Axes>"
      ]
     },
     "metadata": {},
     "output_type": "display_data"
    }
   ],
   "source": [
    "#Seaborn Heatmap visualizes correlation between all numeric features\n",
    "fig = plt.figure(figsize=(12,12))\n",
    "ax = sns.heatmap(final_sat_act.corr(),annot=True,cmap=\"RdBu\", center=0)\n",
    "ax.set_title('Correlation Heatmap for SAT and ACT Data\\n');"
   ]
  },
  {
   "cell_type": "markdown",
   "metadata": {},
   "source": [
    "No tremendous surprises here, given the selection bias discussed earlier.  \n",
    "\n",
    "- **Mean scores on a given test are highly negatively correlated with participation rate on that test (r ~ -0.8)**. This directly indicates the selection bias effect.  Lower participation typically means higher mean scores, and vice versa, due to higher achieving students on average taking the test.\n",
    "\n",
    "- **Mean scores on sections of a given test are highly correlated (r ~ 0.9 to 1.0) with mean scores for other sections of that test, or total scores for that test**.  If a state performs well on the SAT because they have low participation or simply because they are higher achieving, it's likely they perform well on all sections.  This holds across years too, as most states have similar profiles in 2018 as they did in 2017.  Participation rates for the same test across years are highly correlated.\n",
    "\n",
    "- **Mean scores on sections of the SAT are moderately negatively correlated with mean scores on ACT, and vice versa (r ~ -0.6)**.  This is the result of the selection bias effect as well (e.g.; higher scores on SAT > lower SAT participation rate > higher ACT participation rate > lower ACT scores).  The negative correlation here is softened by the fact that in true high achieving states like Massachusetts, or lower achieving states like West Virginia, you expect some positive relationship to exist between SAT and ACT scores.  But this positive correlation is dominated by the negative correlation resulting from the selection bias effect.\n",
    "\n",
    "- **Participation rate on a given test is moderately positively correlated with scores on the opposite test (r ~ 0.6)**. Again this is simply due to higher participation on SAT > lower participation on ACT > higher ACT scores.  So, positive correlation between SAT participation and ACT scores."
   ]
  },
  {
   "cell_type": "markdown",
   "metadata": {},
   "source": [
    "### Bimodality of Score Distributions"
   ]
  },
  {
   "cell_type": "markdown",
   "metadata": {},
   "source": [
    "Below we define a function that allows us to plot side by side distributions of different variables in our dataset."
   ]
  },
  {
   "cell_type": "code",
   "execution_count": 43,
   "metadata": {},
   "outputs": [],
   "source": [
    "#Defines a function to plot histograms showing comparative distributions of variables in a dataframe\n",
    "def subplot_histograms(dataframe, list_of_columns, list_of_titles, list_of_xlabels, figsize_tuple, bins_range = None):\n",
    "    nrows = int(np.ceil(len(list_of_columns)/2)) # Makes sure you have enough rows\n",
    "    fig, ax = plt.subplots(figsize=figsize_tuple,nrows=nrows, ncols=2) # You'll want to specify your figsize\n",
    "    ax = ax.ravel() # Ravel turns a matrix into a vector, which is easier to iterate\n",
    "    for i, column in enumerate(list_of_columns): # Gives us an index value to get into all our lists\n",
    "        ax[i].hist(dataframe[column],bins=bins_range) # feel free to add more settings\n",
    "        ax[i].set_title(list_of_titles[i])# Set titles, labels, etc here for each subplot\n",
    "        ax[i].set_xlabel(list_of_xlabels[i])"
   ]
  },
  {
   "cell_type": "code",
   "execution_count": 44,
   "metadata": {},
   "outputs": [
    {
     "data": {
      "image/png": "[encoded data removed]",
      "text/plain": [
       "<Figure size 864x360 with 2 Axes>"
      ]
     },
     "metadata": {},
     "output_type": "display_data"
    }
   ],
   "source": [
    "subplot_histograms(\n",
    "    final_sat_act,\n",
    "    ['sat_math_17','act_math_17'],\n",
    "    ['Mean SAT Math Score 2017','Mean ACT Math Score 2017'],\n",
    "    ['Mean Score','Mean Score'],\n",
    "    (12,5)\n",
    ")"
   ]
  },
  {
   "cell_type": "markdown",
   "metadata": {},
   "source": [
    "We can see here that Mean SAT Math score is slightly bimodal, with a peak around 535, a valley around 575, and a second, smaller peak in the 600s, suggesting that there is a cluster of states with better math scores.  It would be interesting to see this plotted against SAT participation rate.  It's likely that this second peak reflects higher mean performance in the group of low-participation states. The ACT Math Score has a faintly similar distribution in its Mean Math Score, albeit with a less defined peak. But it appears that in both cases there may be a cluster of high-participation state scores and a cluster of low-participation state scores.  Similar distributions appear on other sections of the two tests, with faint to stark bimodality."
   ]
  },
  {
   "cell_type": "markdown",
   "metadata": {},
   "source": [
    "## First Impressions: The ACT is Winning"
   ]
  },
  {
   "cell_type": "code",
   "execution_count": 45,
   "metadata": {},
   "outputs": [
    {
     "data": {
      "image/png": "[encoded data removed]",
      "text/plain": [
       "<Figure size 720x432 with 1 Axes>"
      ]
     },
     "metadata": {},
     "output_type": "display_data"
    }
   ],
   "source": [
    "#Boxplot for ACT and SAT participation rates, 2017 and 2018 (4 vars)\n",
    "participation_rates = final_sat_act.loc[:,['sat_participation_17','sat_participation_18','act_participation_17','act_participation_18']]\n",
    "participation_rates = participation_rates.rename(columns={\n",
    "    'sat_participation_17':'SAT 2017',\n",
    "    'sat_participation_18':'SAT 2018',\n",
    "    'act_participation_17':'ACT 2017',\n",
    "    'act_participation_18':'ACT 2018'\n",
    "})\n",
    "plt.figure(figsize=(10,6))\n",
    "plt.title('The Distribution of State ACT and SAT Participation Rates, 2017-18')\n",
    "sns.boxplot(data=participation_rates,orient='h',palette='Set2');"
   ]
  },
  {
   "cell_type": "markdown",
   "metadata": {},
   "source": [
    "As we can see in the summary statistics above, and visualized clearly in this boxplot, the distribution of ACT participation rate across the 50 states is centered significantly higher than that of the SAT.  The following histograms provide more clarity about the nature of these distributions."
   ]
  },
  {
   "cell_type": "markdown",
   "metadata": {},
   "source": [
    "### Comparing Distribution of SAT and ACT Participation Rates, 2017 and 2018"
   ]
  },
  {
   "cell_type": "code",
   "execution_count": 47,
   "metadata": {
    "scrolled": true
   },
   "outputs": [
    {
     "data": {
      "image/png": "[encoded data removed]",
      "text/plain": [
       "<Figure size 864x360 with 2 Axes>"
      ]
     },
     "metadata": {},
     "output_type": "display_data"
    }
   ],
   "source": [
    "subplot_histograms(\n",
    "    final_sat_act,\n",
    "    ['sat_participation_17','act_participation_17'],\n",
    "    ['SAT Participation 2017','ACT Participation 2017',],\n",
    "    ['Participation Rate','Participation Rate'],\n",
    "    (12,5),\n",
    "    [0.1*i for i in range(0,11)]  #This was included to make equal bins at the tenth percentiles from 0 to 100\n",
    ")"
   ]
  },
  {
   "cell_type": "code",
   "execution_count": 48,
   "metadata": {},
   "outputs": [
    {
     "data": {
      "image/png": "[encoded data removed]",
      "text/plain": [
       "<Figure size 864x360 with 2 Axes>"
      ]
     },
     "metadata": {},
     "output_type": "display_data"
    }
   ],
   "source": [
    "subplot_histograms(\n",
    "    final_sat_act,\n",
    "    ['sat_participation_18','act_participation_18'],\n",
    "    ['SAT Participation 2018','ACT Participation 2018',],\n",
    "    ['Participation Rate','Participation Rate'],\n",
    "    (12,5),\n",
    "    [0.1*i for i in range(0,11)]  #This was included to make equal bins at the tenth percentiles from 0 to 100\n",
    ")\n",
    "plt.show()"
   ]
  },
  {
   "cell_type": "markdown",
   "metadata": {},
   "source": [
    "In these plots we can see that the distributions for SAT participation rate and ACT participation rate have not changed dramatically from 2017 to 2018.  It is also clear that the SAT has a large group of very low-end participation rates (<10%), a cluster of states with participation in the 50-75% range, and then a group of states with 100% participation.  The ACT, by contrast, has almost no states with lower than 10% participation, has a cluster of states in the 15-35% range, only a small number of states in the mid to high range, and then a large group of states with at or near 100% participation.  In this way the two distributions almost mirror each other.  \n",
    "\n",
    "Again though, this speaks to the recent success of the ACT."
   ]
  },
  {
   "cell_type": "markdown",
   "metadata": {},
   "source": [
    "## Visualizing the Effect of Selection Bias"
   ]
  },
  {
   "cell_type": "code",
   "execution_count": 49,
   "metadata": {},
   "outputs": [],
   "source": [
    "#Defines a function to create a scatterplot between two variables\n",
    "def subplot_scatterplot(column1,column2,xlabel,ylabel,title):\n",
    "    f = plt.figure(figsize=(8,5))\n",
    "    sns.set_style('whitegrid')\n",
    "    sns.scatterplot(x=final_sat_act[column1],y=final_sat_act[column2])\n",
    "    plt.xlabel(xlabel)\n",
    "    plt.ylabel(ylabel)\n",
    "    plt.title(title);"
   ]
  },
  {
   "cell_type": "code",
   "execution_count": 50,
   "metadata": {
    "scrolled": true
   },
   "outputs": [
    {
     "data": {
      "image/png": "[encoded data removed]",
      "text/plain": [
       "<Figure size 576x360 with 1 Axes>"
      ]
     },
     "metadata": {},
     "output_type": "display_data"
    }
   ],
   "source": [
    "subplot_scatterplot('act_participation_17','act_composite_17','ACT Participation Rate, 2017',\n",
    "                    'Mean ACT Composite Score, 2017','ACT Participation Varies Inversely With Mean ACT Score')"
   ]
  },
  {
   "cell_type": "code",
   "execution_count": 51,
   "metadata": {
    "scrolled": true
   },
   "outputs": [
    {
     "data": {
      "image/png": "[encoded data removed]",
      "text/plain": [
       "<Figure size 576x360 with 1 Axes>"
      ]
     },
     "metadata": {},
     "output_type": "display_data"
    }
   ],
   "source": [
    "subplot_scatterplot('sat_participation_17','sat_total_17','SAT Participation Rate, 2017',\n",
    "                    'Mean SAT Total Score, 2017','SAT Participation Varies Inversely With Mean SAT Score')"
   ]
  },
  {
   "cell_type": "markdown",
   "metadata": {},
   "source": [
    "These two scatterplots clearly demonstrate the relationship between participation rate and test scoring.  For both tests, lower rates of participation correspond with higher mean score by state. This is due to the selection bias I've discussed earlier in the notebook.  In the SAT plot, for instance, you can see the cluster of ACT-dominated states at top left where SAT participation is very low and mean scores are all >1200.  The small subset of high achieving students that bother to take both tests are high scorers, and so these states have artificially higher score averages.  The downward slope of both graphs indicates the negative association between the variables."
   ]
  },
  {
   "cell_type": "markdown",
   "metadata": {},
   "source": [
    "## Mapping 2018 SAT/ACT Preference by State in Tableau"
   ]
  },
  {
   "cell_type": "markdown",
   "metadata": {},
   "source": [
    "Here I created a divergent chloropleth map of the contiguous US states. It is based on the difference between SAT and ACT participation rates in each state (SAT 2018 participation minus ACT 2018 participation, creating a range from -1 (total ACT preference) to +1 (total SAT preference)).  Thus the color map indicates preference for one test or the other by depth of color, red (ACT) or blue (SAT). I chose these colors intentionally, to underline a pattern I had observed that politically conservative states tend to lean ACT, while more liberal states seem to lean SAT.  The Tableau interactive, with individual state data available on hover, can be found [here](https://public.tableau.com/profile/eamon.fleming#!/vizhome/SATvsACTParticipationbyState/Sheet1?publish=yes).\n",
    "\n",
    "#### SAT Predominant States in Blue, ACT Predominant States in Red\n",
    "\n",
    "<img src=\"images/preferencemap.png\" />\n",
    "\n",
    "\n",
    "\n",
    "Below is a third party map of the political redness or blueness of states as a composite of the last four presidential elections.  One can see that the distribution of ACT and politically red states versus SAT and politically blue states nationwide is quite similar.  This led me to theorize that states that may be starting to lean liberal or that are traditional swing states, may also be more likely to consider the SAT over the ACT for testing.  It is worth noting that of the lower end states identified in the next section as potential SAT push states, most met these criteria as well (New Mexico, Ohio, Arizona, etc).  \n",
    "\n",
    "<img src=\"images/political-map.jpg\" width=\"700px\" />"
   ]
  },
  {
   "cell_type": "markdown",
   "metadata": {},
   "source": [
    "## Identifying Target States for SAT Growth"
   ]
  },
  {
   "cell_type": "markdown",
   "metadata": {},
   "source": [
    "Using Tableau, I ran some key 2017 variables against each other in scatterplots, with change in SAT participation between 2017 and 2018 represented by color. The goal was to see if I could identify trends or clusters of SAT gain states that could help to identify states where the College Board might want to focus resources moving forward.\n",
    "\n",
    "Below we have the mean SAT and ACT scores for each state plotted against SAT participation, all for 2017. Color indicates SAT participation gains in 2018. Deeper blue circles indicate larger gains in SAT participation over the following year.  Basically this plot represents the 2017 status quo and which states saw SAT participation gains from it.\n",
    "\n",
    "<img src=\"images/satvsmeanscores.png\" />\n",
    "\n",
    "We can see that there are two clusters on the chart where SAT gains were made.  One cluster is comprised of states on the upper edge of the large group of low-SAT-participation states, i.e.; states with roughly 10-15% SAT participation. States like Colorado, Illinois, and West Virginia have all made gains here.  A second cluster that made gains in 2018 is comprised of states on the upper edge of the 50-75% participation bloc.  These include Rhode Island, New York, New Jersey, and Maryland.  You can see that in the valley area, or in the main part of these two distribution blocs, few gains were made.  \n",
    "\n",
    "Therefore in moving forward, it may be helpful for the College Board to focus resources on similarly poised states in the 2018 version of this graph, i.e.; states on the upper edge of the lower-range and middle-range packs in the SAT participation distribution.\n",
    "\n",
    "I have included below the 2018 version of this graph, uncolored of course as we cannot yet know gains for 2019.  I have circled dots that represent potential states of interest based on this layout.  The lower group is comprised of New Mexico, Ohio, and Montana, other states in the vicinity include Nevada and Arizona.  The upper target group is comprised of states like Georgia, Pennsylvania, Washington, and also some states like New York and Maryland that may still be on the rise.  \n",
    "\n",
    "<img src=\"images/satvsmeanscoresB.png\" />"
   ]
  },
  {
   "cell_type": "markdown",
   "metadata": {},
   "source": [
    "## Notes on Individual States"
   ]
  },
  {
   "cell_type": "markdown",
   "metadata": {},
   "source": [
    "### Evidence of Selection Bias Effect in Colorado and Illinois"
   ]
  },
  {
   "cell_type": "markdown",
   "metadata": {},
   "source": [
    "Let's look more closely at Colorado and Illinois, which have both seen dramatic increases in SAT participation in the previous year.  Both states implemented mandatory SAT testing, leaving previous contracts with the ACT in order to do so.  In doing so, as mentioned above, they both saw significant decreases in SAT mean scores (Colorado 1201 to 1025, Illinois 1125 to 1019).  They also saw otherwise anomalous gains in ACT scoring, as many students that may have been poor performers in the ACT pool prior were shifted to the SAT pool with the changes.\n",
    "\n",
    "To highlight these changes, I want to show these two plots:"
   ]
  },
  {
   "cell_type": "code",
   "execution_count": 52,
   "metadata": {
    "scrolled": true
   },
   "outputs": [
    {
     "data": {
      "image/png": "[encoded data removed]",
      "text/plain": [
       "<Figure size 576x360 with 1 Axes>"
      ]
     },
     "metadata": {},
     "output_type": "display_data"
    }
   ],
   "source": [
    "subplot_scatterplot('sat_total_17','sat_total_18','Mean SAT Total Score, 2017',\n",
    "                    'Mean SAT Total Score, 2018','SAT Scores by State, 2017 vs 2018')"
   ]
  },
  {
   "cell_type": "markdown",
   "metadata": {},
   "source": [
    "We observe here a high correlation between SAT Total score in 2017 and 2018 for each state.  There are a few exceptions where we see that states have dropped off from 2017 to 2018.  The most notable of these is Colorado, falling from 1201 to 1025.  This is likely attributable in part to a large increase in SAT participation (11% in 2017 to 28% in 2018), which might dilute the quality of the average score.  However, this fails to explain the scale of the drop entirely, given that Illinois (9% participation in 2017, 99% in 2018) only saw a drop from 1115 to 1019 with a much larger increase in participation."
   ]
  },
  {
   "cell_type": "code",
   "execution_count": 53,
   "metadata": {
    "scrolled": true
   },
   "outputs": [
    {
     "data": {
      "image/png": "[encoded data removed]",
      "text/plain": [
       "<Figure size 576x360 with 1 Axes>"
      ]
     },
     "metadata": {},
     "output_type": "display_data"
    }
   ],
   "source": [
    "subplot_scatterplot('act_composite_17','act_composite_18','Mean ACT Composite Score, 2017',\n",
    "                    'Mean ACT Composite Score, 2018','ACT Scores by State, 2017 vs 2018')"
   ]
  },
  {
   "cell_type": "markdown",
   "metadata": {},
   "source": [
    "Again, we observe a high correlation between ACT Composite scores in 2017 and 2018 across the states.  Two outliers jump out, these states have both seen significant gains in ACT scores in the past year.  Perhaps unsurprisingly, these states are Illinois and Colorado again.  In conjunction with increases in SAT participation, these states both saw sizeable decreases in ACT participation, which has led to a higher mean score among those who do still take the test.\n",
    "\n",
    "If you imagine fitting a predictive line to these two plots, predicting 2018 mean score based on 2017 mean score, you would see that Colorado and Illinois are represented on the first plot by the two points with the greatest decrease in SAT score relative to the prediction line, and in the second plot by the two points with the greatest increase in ACT score relative to the prediction line.  This reflects the changes discussed and shows the effect of selection bias on scoring very clearly and immediately.  As SAT participation went to 100% and ACT participation tumbled, SAT mean score fell off precipitously and ACT mean scores increased markedly."
   ]
  },
  {
   "cell_type": "markdown",
   "metadata": {},
   "source": [
    "### West Virginia and Oklahoma"
   ]
  },
  {
   "cell_type": "code",
   "execution_count": 54,
   "metadata": {
    "scrolled": false
   },
   "outputs": [
    {
     "data": {
      "image/png": "[encoded data removed]",
      "text/plain": [
       "<Figure size 576x360 with 1 Axes>"
      ]
     },
     "metadata": {},
     "output_type": "display_data"
    }
   ],
   "source": [
    "subplot_scatterplot('sat_participation_17','sat_total_17','Mean SAT Participation, 2017','Mean SAT Total Score, 2017','SAT Score by Participation, 2017')"
   ]
  },
  {
   "cell_type": "markdown",
   "metadata": {},
   "source": [
    "With SAT participation of 14% in 2017, and mean SAT score of 1086, West Virginia was one of only two states with participation under 20% that still saw mean scores below 1100.  The other, Oklahoma, with 7% participation and mean scores below 1050, is even more abysmal.  **The list below shows all states with mean SAT scores below 1050 in 2017.** To make this list with only 7% test participation is unfortunate."
   ]
  },
  {
   "cell_type": "code",
   "execution_count": 55,
   "metadata": {
    "scrolled": true
   },
   "outputs": [
    {
     "data": {
      "text/html": [
       "<div>\n",
       "<style scoped>\n",
       "    .dataframe tbody tr th:only-of-type {\n",
       "        vertical-align: middle;\n",
       "    }\n",
       "\n",
       "    .dataframe tbody tr th {\n",
       "        vertical-align: top;\n",
       "    }\n",
       "\n",
       "    .dataframe thead th {\n",
       "        text-align: right;\n",
       "    }\n",
       "</style>\n",
       "<table border=\"1\" class=\"dataframe\">\n",
       "  <thead>\n",
       "    <tr style=\"text-align: right;\">\n",
       "      <th></th>\n",
       "      <th>state</th>\n",
       "      <th>sat_participation_17</th>\n",
       "      <th>sat_total_17</th>\n",
       "    </tr>\n",
       "  </thead>\n",
       "  <tbody>\n",
       "    <tr>\n",
       "      <th>36</th>\n",
       "      <td>Oklahoma</td>\n",
       "      <td>0.07</td>\n",
       "      <td>1047</td>\n",
       "    </tr>\n",
       "    <tr>\n",
       "      <th>43</th>\n",
       "      <td>Texas</td>\n",
       "      <td>0.62</td>\n",
       "      <td>1020</td>\n",
       "    </tr>\n",
       "    <tr>\n",
       "      <th>9</th>\n",
       "      <td>Florida</td>\n",
       "      <td>0.83</td>\n",
       "      <td>1017</td>\n",
       "    </tr>\n",
       "    <tr>\n",
       "      <th>12</th>\n",
       "      <td>Idaho</td>\n",
       "      <td>0.93</td>\n",
       "      <td>1005</td>\n",
       "    </tr>\n",
       "    <tr>\n",
       "      <th>19</th>\n",
       "      <td>Maine</td>\n",
       "      <td>0.95</td>\n",
       "      <td>1012</td>\n",
       "    </tr>\n",
       "    <tr>\n",
       "      <th>6</th>\n",
       "      <td>Connecticut</td>\n",
       "      <td>1.00</td>\n",
       "      <td>1041</td>\n",
       "    </tr>\n",
       "    <tr>\n",
       "      <th>7</th>\n",
       "      <td>Delaware</td>\n",
       "      <td>1.00</td>\n",
       "      <td>996</td>\n",
       "    </tr>\n",
       "    <tr>\n",
       "      <th>8</th>\n",
       "      <td>District of Columbia</td>\n",
       "      <td>1.00</td>\n",
       "      <td>950</td>\n",
       "    </tr>\n",
       "    <tr>\n",
       "      <th>22</th>\n",
       "      <td>Michigan</td>\n",
       "      <td>1.00</td>\n",
       "      <td>1005</td>\n",
       "    </tr>\n",
       "  </tbody>\n",
       "</table>\n",
       "</div>"
      ],
      "text/plain": [
       "                   state  sat_participation_17  sat_total_17\n",
       "36              Oklahoma                  0.07          1047\n",
       "43                 Texas                  0.62          1020\n",
       "9                Florida                  0.83          1017\n",
       "12                 Idaho                  0.93          1005\n",
       "19                 Maine                  0.95          1012\n",
       "6            Connecticut                  1.00          1041\n",
       "7               Delaware                  1.00           996\n",
       "8   District of Columbia                  1.00           950\n",
       "22              Michigan                  1.00          1005"
      ]
     },
     "execution_count": 55,
     "metadata": {},
     "output_type": "execute_result"
    }
   ],
   "source": [
    "final_sat_act[final_sat_act['sat_total_17']<1050][['state','sat_participation_17','sat_total_17']].sort_values('sat_participation_17')"
   ]
  },
  {
   "cell_type": "markdown",
   "metadata": {},
   "source": [
    "What makes West Virginia interesting, meanwhile, is that in 2018, it saw one of the largest leaps in SAT participation not involving a mandatory requirement: a 100% increase in participation, up to 0.28 from 0.14.  As expected, there was a drop in mean score accompanying this, down to 999.  As it turns out, this participation increase was the result of the combined effect of two changes: the ACT statewide contract ended without renewal in 2018, and West Virginia subsequently agreed to cover SAT test costs for all public school students."
   ]
  },
  {
   "cell_type": "markdown",
   "metadata": {},
   "source": [
    "## Conclusions and Recommendations"
   ]
  },
  {
   "cell_type": "markdown",
   "metadata": {},
   "source": [
    "The ACT and SAT participation distributions roughly mirror each other, with states tending to prefer one test or the other. ACT shows a large group of highly committed states, and a higher baseline participation nationwide.  SAT shows a larger group of states with 50-80% particpation, as well as a smaller set of highly committed states.  The ACT has been doing quite well.\n",
    "\n",
    "ACT and SAT scores are inversely correlated with their respective participation rates.  This is likely due to selection bias, as low participation means those who are participating tend to be higher achieving, and high participation means diluted quality of performance.\n",
    "\n",
    "There are strong regional (and possibly political) affiliations associated with ACT versus SAT preference.  Coastal progressive states tend to favor the SAT, while Midwestern and Mountain conservative states tend to favor the ACT.\n",
    "\n",
    "The SAT made clear gains in 2018 relative to the ACT.  The states making these gains tended to be states in the 10-15% participation range, at the upper edge of the lower bloc, or in the 70% range, at the upper edge of the middle bloc, in the distribution of SAT participation by state.  Targeting states in similar positions in the 2018 distribution should be promising  for the College Board moving forward."
   ]
  },
  {
   "cell_type": "code",
   "execution_count": null,
   "metadata": {},
   "outputs": [],
   "source": []
  }
 ],
 "metadata": {
  "anaconda-cloud": {},
  "kernelspec": {
   "display_name": "Python 3",
   "language": "python",
   "name": "python3"
  },
  "language_info": {
   "codemirror_mode": {
    "name": "ipython",
    "version": 3
   },
   "file_extension": ".py",
   "mimetype": "text/x-python",
   "name": "python",
   "nbconvert_exporter": "python",
   "pygments_lexer": "ipython3",
   "version": "3.6.5"
  }
 },
 "nbformat": 4,
 "nbformat_minor": 2
}
